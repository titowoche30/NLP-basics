{
 "cells": [
  {
   "cell_type": "markdown",
   "metadata": {},
   "source": [
    "# 1 - Preparing data"
   ]
  },
  {
   "cell_type": "code",
   "execution_count": 230,
   "metadata": {},
   "outputs": [],
   "source": [
    "from os import listdir\n",
    "from os.path import isfile, join\n",
    "import pandas as pd\n",
    "from sklearn.utils import shuffle\n",
    "import matplotlib.pyplot as plt\n",
    "import seaborn as sns\n",
    "plt.style.use('seaborn-whitegrid')"
   ]
  },
  {
   "cell_type": "code",
   "execution_count": 5,
   "metadata": {},
   "outputs": [
    {
     "data": {
      "text/plain": [
       "['Books_small.json',\n",
       " 'Grocery_small.json',\n",
       " 'Clothing_small.json',\n",
       " 'Patio_small.json',\n",
       " 'Electronics_small.json']"
      ]
     },
     "execution_count": 5,
     "metadata": {},
     "output_type": "execute_result"
    }
   ],
   "source": [
    "mypath = \"./data\"\n",
    "onlyfiles = [f for f in listdir(mypath) if isfile(join(mypath, f))]\n",
    "onlyfiles"
   ]
  },
  {
   "cell_type": "code",
   "execution_count": 6,
   "metadata": {},
   "outputs": [],
   "source": [
    "data = pd.DataFrame()\n",
    "for file in onlyfiles:\n",
    "    path = mypath +'/'+ file\n",
    "    df = pd.read_json(path,lines=True)\n",
    "    df['category'] = file.split(\"_\")[0] \n",
    "    data = pd.concat([data,df],axis=0,sort=True)\n",
    "    \n",
    "data.to_csv('./complete_data.csv',index=False)"
   ]
  },
  {
   "cell_type": "code",
   "execution_count": 5,
   "metadata": {},
   "outputs": [
    {
     "data": {
      "text/html": [
       "<div>\n",
       "<style scoped>\n",
       "    .dataframe tbody tr th:only-of-type {\n",
       "        vertical-align: middle;\n",
       "    }\n",
       "\n",
       "    .dataframe tbody tr th {\n",
       "        vertical-align: top;\n",
       "    }\n",
       "\n",
       "    .dataframe thead th {\n",
       "        text-align: right;\n",
       "    }\n",
       "</style>\n",
       "<table border=\"1\" class=\"dataframe\">\n",
       "  <thead>\n",
       "    <tr style=\"text-align: right;\">\n",
       "      <th></th>\n",
       "      <th>asin</th>\n",
       "      <th>category</th>\n",
       "      <th>helpful</th>\n",
       "      <th>overall</th>\n",
       "      <th>reviewText</th>\n",
       "      <th>reviewTime</th>\n",
       "      <th>reviewerID</th>\n",
       "      <th>reviewerName</th>\n",
       "      <th>summary</th>\n",
       "      <th>unixReviewTime</th>\n",
       "    </tr>\n",
       "  </thead>\n",
       "  <tbody>\n",
       "    <tr>\n",
       "      <th>0</th>\n",
       "      <td>1495329321</td>\n",
       "      <td>Books</td>\n",
       "      <td>[0, 0]</td>\n",
       "      <td>4</td>\n",
       "      <td>Da Silva takes the divine by storm with this u...</td>\n",
       "      <td>03 30, 2014</td>\n",
       "      <td>A1E5ZR1Z4OQJG</td>\n",
       "      <td>Pure Jonel \"Pure Jonel\"</td>\n",
       "      <td>An amazing first novel</td>\n",
       "      <td>1396137600</td>\n",
       "    </tr>\n",
       "    <tr>\n",
       "      <th>1</th>\n",
       "      <td>0399157565</td>\n",
       "      <td>Books</td>\n",
       "      <td>[0, 0]</td>\n",
       "      <td>2</td>\n",
       "      <td>For me personally it's the most disappointing ...</td>\n",
       "      <td>05 15, 2014</td>\n",
       "      <td>A30PZPI6FPH0A7</td>\n",
       "      <td>Jackmollie</td>\n",
       "      <td>disappointed</td>\n",
       "      <td>1400112000</td>\n",
       "    </tr>\n",
       "    <tr>\n",
       "      <th>2</th>\n",
       "      <td>0984528105</td>\n",
       "      <td>Books</td>\n",
       "      <td>[0, 0]</td>\n",
       "      <td>4</td>\n",
       "      <td>Very simple book, but leaves you feeling good....</td>\n",
       "      <td>05 28, 2014</td>\n",
       "      <td>A1GQ2UI5BKCCRD</td>\n",
       "      <td>Gail Hodges</td>\n",
       "      <td>Good book</td>\n",
       "      <td>1401235200</td>\n",
       "    </tr>\n",
       "    <tr>\n",
       "      <th>3</th>\n",
       "      <td>0804139024</td>\n",
       "      <td>Books</td>\n",
       "      <td>[0, 0]</td>\n",
       "      <td>5</td>\n",
       "      <td>I read a library copy of this exceptionally we...</td>\n",
       "      <td>04 3, 2014</td>\n",
       "      <td>A2DF4LQQI6KSQ2</td>\n",
       "      <td>Olga</td>\n",
       "      <td>Science Fiction at its best!</td>\n",
       "      <td>1396483200</td>\n",
       "    </tr>\n",
       "    <tr>\n",
       "      <th>4</th>\n",
       "      <td>0765317583</td>\n",
       "      <td>Books</td>\n",
       "      <td>[0, 0]</td>\n",
       "      <td>5</td>\n",
       "      <td>With the government knowing this could happen ...</td>\n",
       "      <td>04 9, 2014</td>\n",
       "      <td>A1UAMAWY966P2</td>\n",
       "      <td>Nadyne M Ichimura</td>\n",
       "      <td>Excellent story</td>\n",
       "      <td>1397001600</td>\n",
       "    </tr>\n",
       "  </tbody>\n",
       "</table>\n",
       "</div>"
      ],
      "text/plain": [
       "         asin category helpful  overall  \\\n",
       "0  1495329321    Books  [0, 0]        4   \n",
       "1  0399157565    Books  [0, 0]        2   \n",
       "2  0984528105    Books  [0, 0]        4   \n",
       "3  0804139024    Books  [0, 0]        5   \n",
       "4  0765317583    Books  [0, 0]        5   \n",
       "\n",
       "                                          reviewText   reviewTime  \\\n",
       "0  Da Silva takes the divine by storm with this u...  03 30, 2014   \n",
       "1  For me personally it's the most disappointing ...  05 15, 2014   \n",
       "2  Very simple book, but leaves you feeling good....  05 28, 2014   \n",
       "3  I read a library copy of this exceptionally we...   04 3, 2014   \n",
       "4  With the government knowing this could happen ...   04 9, 2014   \n",
       "\n",
       "       reviewerID             reviewerName                       summary  \\\n",
       "0   A1E5ZR1Z4OQJG  Pure Jonel \"Pure Jonel\"        An amazing first novel   \n",
       "1  A30PZPI6FPH0A7               Jackmollie                  disappointed   \n",
       "2  A1GQ2UI5BKCCRD              Gail Hodges                     Good book   \n",
       "3  A2DF4LQQI6KSQ2                     Olga  Science Fiction at its best!   \n",
       "4   A1UAMAWY966P2        Nadyne M Ichimura               Excellent story   \n",
       "\n",
       "   unixReviewTime  \n",
       "0      1396137600  \n",
       "1      1400112000  \n",
       "2      1401235200  \n",
       "3      1396483200  \n",
       "4      1397001600  "
      ]
     },
     "execution_count": 5,
     "metadata": {},
     "output_type": "execute_result"
    }
   ],
   "source": [
    "#data = pd.read_csv('complete_data.csv')\n",
    "data.head()"
   ]
  },
  {
   "cell_type": "code",
   "execution_count": 6,
   "metadata": {},
   "outputs": [
    {
     "data": {
      "text/plain": [
       "Electronics    1000\n",
       "Books          1000\n",
       "Grocery        1000\n",
       "Patio          1000\n",
       "Clothing       1000\n",
       "Name: category, dtype: int64"
      ]
     },
     "execution_count": 6,
     "metadata": {},
     "output_type": "execute_result"
    }
   ],
   "source": [
    "data['category'].value_counts()"
   ]
  },
  {
   "cell_type": "code",
   "execution_count": 7,
   "metadata": {},
   "outputs": [
    {
     "data": {
      "text/plain": [
       "(5000, 10)"
      ]
     },
     "execution_count": 7,
     "metadata": {},
     "output_type": "execute_result"
    }
   ],
   "source": [
    "data.shape"
   ]
  },
  {
   "cell_type": "markdown",
   "metadata": {},
   "source": [
    "# 2 - Train_test split"
   ]
  },
  {
   "cell_type": "code",
   "execution_count": 8,
   "metadata": {},
   "outputs": [],
   "source": [
    "X = data['reviewText']\n",
    "y = data['category']"
   ]
  },
  {
   "cell_type": "code",
   "execution_count": 9,
   "metadata": {},
   "outputs": [],
   "source": [
    "from sklearn.model_selection import train_test_split\n",
    "X_train, X_test, y_train, y_test=train_test_split(X,y,test_size=0.33,random_state=0)"
   ]
  },
  {
   "cell_type": "markdown",
   "metadata": {},
   "source": [
    "# 3 -  TF-IDF: Term’s Frequency (TF) Inverse Document Frequency (IDF).\n",
    "\n",
    "## TF: The frequency of a word in a document(text). When you know it, you’re able to see if you’re using a term too much or too little. \n",
    "\n",
    "$TF(t) = \\dfrac{Number \\ of \\ times \\ word \\ t \\ appears \\ in \\ a \\ document}{Total \\ number \\ of \\ words \\ in \\ the \\ document}$\n",
    "\n",
    "## IDF: The measure of how significant that term is in the whole corpus.\n",
    "\n",
    "$IDF(t) = log_e \\bigg(\\dfrac{Total \\ number \\ of \\ documents}{Number \\ of \\ documents \\ with \\ word \\ t \\ in \\ it}\\bigg) $\n",
    "\n",
    "# TF-IDF = TF*IDF\n",
    "##  The higher the TF*IDF value, the rarer the term. The smaller the weight, the more common the term."
   ]
  },
  {
   "cell_type": "code",
   "execution_count": 37,
   "metadata": {},
   "outputs": [],
   "source": [
    "from sklearn.feature_extraction.text import TfidfVectorizer"
   ]
  },
  {
   "cell_type": "code",
   "execution_count": 271,
   "metadata": {},
   "outputs": [],
   "source": [
    "vectorizer = TfidfVectorizer()\n",
    "X_train_vectorized=vectorizer.fit_transform(X_train)\n",
    "X_test_vectorized=vectorizer.transform(X_test)"
   ]
  },
  {
   "cell_type": "markdown",
   "metadata": {},
   "source": [
    "# 4 - Latent Semantic Analysis "
   ]
  },
  {
   "cell_type": "code",
   "execution_count": 36,
   "metadata": {},
   "outputs": [],
   "source": [
    "from sklearn.decomposition import TruncatedSVD\n",
    "import time"
   ]
  },
  {
   "cell_type": "code",
   "execution_count": 268,
   "metadata": {},
   "outputs": [
    {
     "name": "stdout",
     "output_type": "stream",
     "text": [
      "total time taken: 95.63107585906982\n"
     ]
    }
   ],
   "source": [
    "t0 = time.time()\n",
    "\n",
    "svd = TruncatedSVD(n_components=X_train_vectorized.shape[0])\n",
    "X_train_svd = svd.fit_transform(X_train_vectorized)\n",
    "\n",
    "X_test_svd = svd.transform(X_test_vectorized)\n",
    "\n",
    "print('total time taken:',time.time()-t0)"
   ]
  },
  {
   "cell_type": "code",
   "execution_count": 269,
   "metadata": {},
   "outputs": [
    {
     "data": {
      "image/png": "[encoded data removed]",
      "text/plain": [
       "<Figure size 1080x576 with 1 Axes>"
      ]
     },
     "metadata": {},
     "output_type": "display_data"
    }
   ],
   "source": [
    "plt.figure(figsize=(15,8))\n",
    "plt.title('Cumulative Explained Variance',size='xx-large')\n",
    "plt.xlabel('Column',size='x-large')\n",
    "plt.xticks(size='large')\n",
    "plt.ylabel('Proportional Variance',size='x-large')\n",
    "plt.yticks(size='large')\n",
    "plt.plot(range(svd.explained_variance_ratio_.shape[0]),svd.explained_variance_ratio_.cumsum())\n",
    "plt.show()\n",
    "\n"
   ]
  },
  {
   "cell_type": "markdown",
   "metadata": {},
   "source": [
    "### It takes approximately 2000 columns to go from 0.8 to 1.0 and only 500 to go from 0.6 to 0.8"
   ]
  },
  {
   "cell_type": "code",
   "execution_count": 87,
   "metadata": {},
   "outputs": [],
   "source": [
    "#from sklearn.utils.extmath import safe_sparse_dot\n",
    "\n",
    "# Getting the projection on the first 1500 columns\n",
    "#X_train_svd = safe_sparse_dot(X_train_vectorized,svd.components_[:1500].T)\n",
    "#X_test_svd = safe_sparse_dot(X_test_vectorized,svd.components_[:1500].T)\n",
    "\n",
    "#X_train_svd.shape"
   ]
  },
  {
   "cell_type": "code",
   "execution_count": 272,
   "metadata": {},
   "outputs": [],
   "source": [
    "X_train_vectorized=pd.DataFrame(data=X_train_vectorized.toarray(),columns = vectorizer.get_feature_names())\n",
    "X_test_vectorized=pd.DataFrame(data=X_test_vectorized.toarray(),columns = vectorizer.get_feature_names())"
   ]
  },
  {
   "cell_type": "code",
   "execution_count": 273,
   "metadata": {
    "scrolled": true
   },
   "outputs": [
    {
     "data": {
      "text/html": [
       "<div>\n",
       "<style scoped>\n",
       "    .dataframe tbody tr th:only-of-type {\n",
       "        vertical-align: middle;\n",
       "    }\n",
       "\n",
       "    .dataframe tbody tr th {\n",
       "        vertical-align: top;\n",
       "    }\n",
       "\n",
       "    .dataframe thead th {\n",
       "        text-align: right;\n",
       "    }\n",
       "</style>\n",
       "<table border=\"1\" class=\"dataframe\">\n",
       "  <thead>\n",
       "    <tr style=\"text-align: right;\">\n",
       "      <th></th>\n",
       "      <th>Most Important Feature</th>\n",
       "    </tr>\n",
       "    <tr>\n",
       "      <th>PCs</th>\n",
       "      <th></th>\n",
       "    </tr>\n",
       "  </thead>\n",
       "  <tbody>\n",
       "    <tr>\n",
       "      <th>PC0</th>\n",
       "      <td>the</td>\n",
       "    </tr>\n",
       "    <tr>\n",
       "      <th>PC1</th>\n",
       "      <td>they</td>\n",
       "    </tr>\n",
       "    <tr>\n",
       "      <th>PC2</th>\n",
       "      <td>it</td>\n",
       "    </tr>\n",
       "    <tr>\n",
       "      <th>PC3</th>\n",
       "      <td>the</td>\n",
       "    </tr>\n",
       "    <tr>\n",
       "      <th>PC4</th>\n",
       "      <td>you</td>\n",
       "    </tr>\n",
       "    <tr>\n",
       "      <th>...</th>\n",
       "      <td>...</td>\n",
       "    </tr>\n",
       "    <tr>\n",
       "      <th>PC3345</th>\n",
       "      <td>ounce</td>\n",
       "    </tr>\n",
       "    <tr>\n",
       "      <th>PC3346</th>\n",
       "      <td>03pm</td>\n",
       "    </tr>\n",
       "    <tr>\n",
       "      <th>PC3347</th>\n",
       "      <td>103</td>\n",
       "    </tr>\n",
       "    <tr>\n",
       "      <th>PC3348</th>\n",
       "      <td>0if</td>\n",
       "    </tr>\n",
       "    <tr>\n",
       "      <th>PC3349</th>\n",
       "      <td>coney</td>\n",
       "    </tr>\n",
       "  </tbody>\n",
       "</table>\n",
       "<p>3350 rows × 1 columns</p>\n",
       "</div>"
      ],
      "text/plain": [
       "       Most Important Feature\n",
       "PCs                          \n",
       "PC0                       the\n",
       "PC1                      they\n",
       "PC2                        it\n",
       "PC3                       the\n",
       "PC4                       you\n",
       "...                       ...\n",
       "PC3345                  ounce\n",
       "PC3346                   03pm\n",
       "PC3347                    103\n",
       "PC3348                    0if\n",
       "PC3349                  coney\n",
       "\n",
       "[3350 rows x 1 columns]"
      ]
     },
     "execution_count": 273,
     "metadata": {},
     "output_type": "execute_result"
    }
   ],
   "source": [
    "n_pcs = svd.components_.shape[0]\n",
    "\n",
    "# get the index of the most important feature on EACH component\n",
    "most_important = [np.abs(svd.components_[i]).argmax() for i in range(n_pcs)]\n",
    "\n",
    "initial_feature_names = X_train_vectorized.columns\n",
    "# get the names\n",
    "most_important_names = [initial_feature_names[most_important[i]] for i in range(n_pcs)]\n",
    "\n",
    "dic = {'PC{}'.format(i): most_important_names[i] for i in range(n_pcs)}\n",
    "\n",
    "\n",
    "# each feature impacts each PC(eigenvector) diferently\n",
    "df_svd = pd.DataFrame(dic.items(),columns=['PCs','Most Important Feature'])\n",
    "df_svd=df_svd.set_index('PCs')\n",
    "df_svd"
   ]
  },
  {
   "cell_type": "code",
   "execution_count": 274,
   "metadata": {},
   "outputs": [
    {
     "data": {
      "image/png": "[encoded data removed]",
      "text/plain": [
       "<Figure size 1440x1080 with 1 Axes>"
      ]
     },
     "metadata": {},
     "output_type": "display_data"
    }
   ],
   "source": [
    "threshold = 10\n",
    "sorted_most_important = df_svd['Most Important Feature'].value_counts()\n",
    "sorted_most_important = sorted_most_important[sorted_most_important>threshold]\n",
    "\n",
    "\n",
    "plt.figure(figsize=(20,15))\n",
    "plt.title('Most Important Words on the PCs',size='xx-large')\n",
    "plt.yticks(size='x-large')\n",
    "fig=sns.barplot(x=sorted_most_important.keys(),y=sorted_most_important.values)\n",
    "fig.set_xticklabels(fig.get_xticklabels(),rotation=45,size='x-large')\n",
    "plt.show()\n"
   ]
  },
  {
   "cell_type": "markdown",
   "metadata": {},
   "source": [
    "# 5 - Classificators"
   ]
  },
  {
   "cell_type": "code",
   "execution_count": 260,
   "metadata": {},
   "outputs": [],
   "source": [
    "from sklearn.metrics import classification_report,f1_score\n",
    "from sklearn.metrics import confusion_matrix\n",
    "from sklearn.model_selection import cross_val_score\n",
    "from sklearn.linear_model import LogisticRegression\n",
    "from sklearn.svm import LinearSVC,SVC"
   ]
  },
  {
   "cell_type": "code",
   "execution_count": 277,
   "metadata": {},
   "outputs": [],
   "source": [
    "dict_classifiers = {\"Logistic Regression\": LogisticRegression(solver = \"liblinear\",random_state=42),\n",
    "    \"LinearSVC\": LinearSVC(random_state=0),\n",
    "    \"SVC\":SVC(random_state=0)\n",
    "}"
   ]
  },
  {
   "cell_type": "code",
   "execution_count": 278,
   "metadata": {},
   "outputs": [],
   "source": [
    "classifiers_names = list(dict_classifiers.keys())\n",
    "classifiers_values=list(dict_classifiers.values())\n"
   ]
  },
  {
   "cell_type": "code",
   "execution_count": 281,
   "metadata": {},
   "outputs": [],
   "source": [
    "def train_model(model,svd=False):\n",
    "    if svd:\n",
    "        model.fit(X_train_svd,y_train)\n",
    "        y_test_pred = model.predict(X_test_svd)\n",
    "    else:\n",
    "        model.fit(X_train_vectorized,y_train)\n",
    "        y_test_pred = model.predict(X_test_vectorized)\n",
    "    \n",
    "    print('f1 = ',f1_score(y_test, y_test_pred,average='weighted'))\n",
    "    print('\\n')\n",
    "    return times"
   ]
  },
  {
   "cell_type": "code",
   "execution_count": 280,
   "metadata": {},
   "outputs": [],
   "source": [
    "def train_model_svd(model):\n",
    "    model.fit(X_train_svd,y_train)\n",
    "    y_test_pred = model.predict(X_test_svd)\n",
    "    print('f1 = ',f1_score(y_test, y_test_pred,average='weighted'))\n",
    "    print('\\n')\n",
    "    return times"
   ]
  },
  {
   "cell_type": "code",
   "execution_count": 282,
   "metadata": {
    "scrolled": true
   },
   "outputs": [
    {
     "name": "stdout",
     "output_type": "stream",
     "text": [
      "------------------------------No_SVD------------------------------\n",
      "------------Logistic Regression------------\n",
      "chegou False \n",
      "\n",
      "f1 =  0.9176915264776075\n",
      "\n",
      "\n",
      "------------LinearSVC------------\n",
      "chegou False \n",
      "\n",
      "f1 =  0.9327573089127635\n",
      "\n",
      "\n",
      "------------SVC------------\n",
      "chegou False \n",
      "\n",
      "f1 =  0.9150758523436503\n",
      "\n",
      "\n",
      "------------------------------Yes_SVD------------------------------\n",
      "------------Logistic Regression------------\n",
      "chegou True \n",
      "\n",
      "f1 =  0.9176915264776075\n",
      "\n",
      "\n",
      "------------LinearSVC------------\n",
      "chegou True \n",
      "\n",
      "f1 =  0.9327573089127635\n",
      "\n",
      "\n",
      "------------SVC------------\n",
      "chegou True \n",
      "\n",
      "f1 =  0.9071239432061207\n",
      "\n",
      "\n"
     ]
    }
   ],
   "source": [
    "times,precs = [],[]\n",
    "names = ['No_SVD','Yes_SVD']\n",
    "flag = False\n",
    "for name in names:\n",
    "    print('--'*15+f'{name}'+'--'*15)\n",
    "    for key,value in zip(classifiers_names,classifiers_values):\n",
    "        print('--'*6+f'{key}'+'--'*6)\n",
    "        Time=train_model(value,flag)\n",
    "        times.append(Time)\n",
    "    flag = True"
   ]
  },
  {
   "cell_type": "code",
   "execution_count": 276,
   "metadata": {},
   "outputs": [
    {
     "name": "stdout",
     "output_type": "stream",
     "text": [
      "(3350, 16546)\n",
      "(3350, 3350)\n"
     ]
    }
   ],
   "source": [
    "print(X_train_vectorized.shape)\n",
    "print(X_train_svd.shape)"
   ]
  },
  {
   "cell_type": "markdown",
   "metadata": {},
   "source": [
    "## SVD drastically reduces the number of columns and preserves the matrix's variance"
   ]
  },
  {
   "cell_type": "markdown",
   "metadata": {},
   "source": [
    "# 6 - Grid_search"
   ]
  },
  {
   "cell_type": "code",
   "execution_count": 95,
   "metadata": {},
   "outputs": [],
   "source": [
    "from sklearn.model_selection import GridSearchCV"
   ]
  },
  {
   "cell_type": "code",
   "execution_count": 292,
   "metadata": {
    "scrolled": true
   },
   "outputs": [
    {
     "name": "stdout",
     "output_type": "stream",
     "text": [
      "Fitting 3 folds for each of 32 candidates, totalling 96 fits\n"
     ]
    },
    {
     "name": "stderr",
     "output_type": "stream",
     "text": [
      "[Parallel(n_jobs=3)]: Using backend LokyBackend with 3 concurrent workers.\n",
      "[Parallel(n_jobs=3)]: Done  41 tasks      | elapsed:   55.3s\n",
      "[Parallel(n_jobs=3)]: Done  96 out of  96 | elapsed:  9.6min finished\n"
     ]
    },
    {
     "data": {
      "text/plain": [
       "GridSearchCV(cv=3, error_score=nan,\n",
       "             estimator=LinearSVC(C=1.0, class_weight=None, dual=True,\n",
       "                                 fit_intercept=True, intercept_scaling=1,\n",
       "                                 loss='squared_hinge', max_iter=1000,\n",
       "                                 multi_class='ovr', penalty='l2',\n",
       "                                 random_state=0, tol=0.0001, verbose=0),\n",
       "             iid='deprecated', n_jobs=3,\n",
       "             param_grid={'C': [1, 10, 100, 1000],\n",
       "                         'loss': ['hinge', 'squared_hinge'],\n",
       "                         'multi_class': ['ovr', 'crammer_singer'],\n",
       "                         'penalty': ['l1', 'l2']},\n",
       "             pre_dispatch='2*n_jobs', refit=True, return_train_score=False,\n",
       "             scoring='f1_weighted', verbose=2)"
      ]
     },
     "execution_count": 292,
     "metadata": {},
     "output_type": "execute_result"
    }
   ],
   "source": [
    "model = LinearSVC(random_state=0)\n",
    "penalty = ['l1', 'l2']\n",
    "multi_class = ['ovr','crammer_singer']\n",
    "C = [1, 10, 100, 1000]\n",
    "loss = ['hinge', 'squared_hinge']\n",
    "\n",
    "parameters = dict(penalty=penalty, multi_class=multi_class, C=C,loss=loss)\n",
    "\n",
    "grid = GridSearchCV(model, parameters, cv = 3, verbose = 2, n_jobs = 3,scoring='f1_weighted')\n",
    "grid.fit(X_train_svd, y_train)"
   ]
  },
  {
   "cell_type": "code",
   "execution_count": 293,
   "metadata": {},
   "outputs": [
    {
     "data": {
      "text/plain": [
       "0.9253968667299538"
      ]
     },
     "execution_count": 293,
     "metadata": {},
     "output_type": "execute_result"
    }
   ],
   "source": [
    "grid.best_score_"
   ]
  },
  {
   "cell_type": "code",
   "execution_count": 295,
   "metadata": {},
   "outputs": [
    {
     "name": "stdout",
     "output_type": "stream",
     "text": [
      "LinearSVC(C=1, class_weight=None, dual=True, fit_intercept=True,\n",
      "          intercept_scaling=1, loss='hinge', max_iter=1000, multi_class='ovr',\n",
      "          penalty='l2', random_state=0, tol=0.0001, verbose=0)\n"
     ]
    }
   ],
   "source": [
    "print(grid.best_estimator_)\n",
    "model = grid.best_estimator_"
   ]
  },
  {
   "cell_type": "markdown",
   "metadata": {},
   "source": [
    "# 7 - Evaluation"
   ]
  },
  {
   "cell_type": "code",
   "execution_count": 296,
   "metadata": {},
   "outputs": [
    {
     "data": {
      "text/plain": [
       "array([0.93124727, 0.95089009, 0.93613789, 0.93973459, 0.9329417 ])"
      ]
     },
     "execution_count": 296,
     "metadata": {},
     "output_type": "execute_result"
    }
   ],
   "source": [
    "scores = cross_val_score(model, pd.concat([X_train_vectorized,X_test_vectorized]), pd.concat([y_train,y_test]), cv = 5, scoring='f1_weighted')\n",
    "scores"
   ]
  },
  {
   "cell_type": "code",
   "execution_count": 297,
   "metadata": {},
   "outputs": [
    {
     "name": "stdout",
     "output_type": "stream",
     "text": [
      "              precision    recall  f1-score   support\n",
      "\n",
      "       Books       0.98      0.97      0.98       312\n",
      "    Clothing       0.91      0.93      0.92       334\n",
      " Electronics       0.92      0.89      0.91       346\n",
      "     Grocery       0.94      0.94      0.94       328\n",
      "       Patio       0.93      0.94      0.93       330\n",
      "\n",
      "    accuracy                           0.94      1650\n",
      "   macro avg       0.94      0.94      0.94      1650\n",
      "weighted avg       0.94      0.94      0.94      1650\n",
      "\n"
     ]
    }
   ],
   "source": [
    "y_test_pred = model.predict(X_test_svd)\n",
    "print(classification_report(y_test, y_test_pred))"
   ]
  },
  {
   "cell_type": "code",
   "execution_count": 298,
   "metadata": {},
   "outputs": [
    {
     "data": {
      "text/plain": [
       "<matplotlib.axes._subplots.AxesSubplot at 0x7f876dc31790>"
      ]
     },
     "execution_count": 298,
     "metadata": {},
     "output_type": "execute_result"
    },
    {
     "data": {
      "image/png": "[encoded data removed]",
      "text/plain": [
       "<Figure size 720x576 with 2 Axes>"
      ]
     },
     "metadata": {},
     "output_type": "display_data"
    }
   ],
   "source": [
    "labels = ['Books','Clothing','Electronics','Grocery','Patio']\n",
    "conf_matrix = confusion_matrix(y_test, y_test_pred,labels=labels)\n",
    "conf_matrix = pd.DataFrame(conf_matrix,index=labels,columns=labels) \n",
    "\n",
    "plt.figure(figsize=(10,8))\n",
    "sns.heatmap(conf_matrix,annot=True,fmt='d')"
   ]
  }
 ],
 "metadata": {
  "kernelspec": {
   "display_name": "Python 3",
   "language": "python",
   "name": "python3"
  },
  "language_info": {
   "codemirror_mode": {
    "name": "ipython",
    "version": 3
   },
   "file_extension": ".py",
   "mimetype": "text/x-python",
   "name": "python",
   "nbconvert_exporter": "python",
   "pygments_lexer": "ipython3",
   "version": "3.7.6"
  }
 },
 "nbformat": 4,
 "nbformat_minor": 4
}
