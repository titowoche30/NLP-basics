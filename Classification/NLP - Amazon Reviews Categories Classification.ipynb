{
 "cells": [
  {
   "cell_type": "markdown",
   "metadata": {},
   "source": [
    "# 1 - Preparing data"
   ]
  },
  {
   "cell_type": "code",
   "execution_count": 4,
   "metadata": {},
   "outputs": [],
   "source": [
    "from os import listdir\n",
    "from os.path import isfile, join\n",
    "import pandas as pd\n",
    "from sklearn.utils import shuffle\n",
    "import matplotlib.pyplot as plt\n",
    "import seaborn as sns"
   ]
  },
  {
   "cell_type": "code",
   "execution_count": 5,
   "metadata": {},
   "outputs": [
    {
     "data": {
      "text/plain": [
       "['Books_small.json',\n",
       " 'Grocery_small.json',\n",
       " 'Clothing_small.json',\n",
       " 'Patio_small.json',\n",
       " 'Electronics_small.json']"
      ]
     },
     "execution_count": 5,
     "metadata": {},
     "output_type": "execute_result"
    }
   ],
   "source": [
    "mypath = \"./data\"\n",
    "onlyfiles = [f for f in listdir(mypath) if isfile(join(mypath, f))]\n",
    "onlyfiles"
   ]
  },
  {
   "cell_type": "code",
   "execution_count": 6,
   "metadata": {},
   "outputs": [],
   "source": [
    "data = pd.DataFrame()\n",
    "for file in onlyfiles:\n",
    "    path = mypath +'/'+ file\n",
    "    df = pd.read_json(path,lines=True)\n",
    "    df['category'] = file.split(\"_\")[0] \n",
    "    data = pd.concat([data,df],axis=0,sort=True)\n",
    "    \n",
    "data.to_csv('./complete_data.csv',index=False)"
   ]
  },
  {
   "cell_type": "code",
   "execution_count": 7,
   "metadata": {},
   "outputs": [
    {
     "data": {
      "text/html": [
       "<div>\n",
       "<style scoped>\n",
       "    .dataframe tbody tr th:only-of-type {\n",
       "        vertical-align: middle;\n",
       "    }\n",
       "\n",
       "    .dataframe tbody tr th {\n",
       "        vertical-align: top;\n",
       "    }\n",
       "\n",
       "    .dataframe thead th {\n",
       "        text-align: right;\n",
       "    }\n",
       "</style>\n",
       "<table border=\"1\" class=\"dataframe\">\n",
       "  <thead>\n",
       "    <tr style=\"text-align: right;\">\n",
       "      <th></th>\n",
       "      <th>asin</th>\n",
       "      <th>category</th>\n",
       "      <th>helpful</th>\n",
       "      <th>overall</th>\n",
       "      <th>reviewText</th>\n",
       "      <th>reviewTime</th>\n",
       "      <th>reviewerID</th>\n",
       "      <th>reviewerName</th>\n",
       "      <th>summary</th>\n",
       "      <th>unixReviewTime</th>\n",
       "    </tr>\n",
       "  </thead>\n",
       "  <tbody>\n",
       "    <tr>\n",
       "      <th>0</th>\n",
       "      <td>1495329321</td>\n",
       "      <td>Books</td>\n",
       "      <td>[0, 0]</td>\n",
       "      <td>4</td>\n",
       "      <td>Da Silva takes the divine by storm with this u...</td>\n",
       "      <td>03 30, 2014</td>\n",
       "      <td>A1E5ZR1Z4OQJG</td>\n",
       "      <td>Pure Jonel \"Pure Jonel\"</td>\n",
       "      <td>An amazing first novel</td>\n",
       "      <td>1396137600</td>\n",
       "    </tr>\n",
       "    <tr>\n",
       "      <th>1</th>\n",
       "      <td>0399157565</td>\n",
       "      <td>Books</td>\n",
       "      <td>[0, 0]</td>\n",
       "      <td>2</td>\n",
       "      <td>For me personally it's the most disappointing ...</td>\n",
       "      <td>05 15, 2014</td>\n",
       "      <td>A30PZPI6FPH0A7</td>\n",
       "      <td>Jackmollie</td>\n",
       "      <td>disappointed</td>\n",
       "      <td>1400112000</td>\n",
       "    </tr>\n",
       "    <tr>\n",
       "      <th>2</th>\n",
       "      <td>0984528105</td>\n",
       "      <td>Books</td>\n",
       "      <td>[0, 0]</td>\n",
       "      <td>4</td>\n",
       "      <td>Very simple book, but leaves you feeling good....</td>\n",
       "      <td>05 28, 2014</td>\n",
       "      <td>A1GQ2UI5BKCCRD</td>\n",
       "      <td>Gail Hodges</td>\n",
       "      <td>Good book</td>\n",
       "      <td>1401235200</td>\n",
       "    </tr>\n",
       "    <tr>\n",
       "      <th>3</th>\n",
       "      <td>0804139024</td>\n",
       "      <td>Books</td>\n",
       "      <td>[0, 0]</td>\n",
       "      <td>5</td>\n",
       "      <td>I read a library copy of this exceptionally we...</td>\n",
       "      <td>04 3, 2014</td>\n",
       "      <td>A2DF4LQQI6KSQ2</td>\n",
       "      <td>Olga</td>\n",
       "      <td>Science Fiction at its best!</td>\n",
       "      <td>1396483200</td>\n",
       "    </tr>\n",
       "    <tr>\n",
       "      <th>4</th>\n",
       "      <td>0765317583</td>\n",
       "      <td>Books</td>\n",
       "      <td>[0, 0]</td>\n",
       "      <td>5</td>\n",
       "      <td>With the government knowing this could happen ...</td>\n",
       "      <td>04 9, 2014</td>\n",
       "      <td>A1UAMAWY966P2</td>\n",
       "      <td>Nadyne M Ichimura</td>\n",
       "      <td>Excellent story</td>\n",
       "      <td>1397001600</td>\n",
       "    </tr>\n",
       "  </tbody>\n",
       "</table>\n",
       "</div>"
      ],
      "text/plain": [
       "         asin category helpful  overall  \\\n",
       "0  1495329321    Books  [0, 0]        4   \n",
       "1  0399157565    Books  [0, 0]        2   \n",
       "2  0984528105    Books  [0, 0]        4   \n",
       "3  0804139024    Books  [0, 0]        5   \n",
       "4  0765317583    Books  [0, 0]        5   \n",
       "\n",
       "                                          reviewText   reviewTime  \\\n",
       "0  Da Silva takes the divine by storm with this u...  03 30, 2014   \n",
       "1  For me personally it's the most disappointing ...  05 15, 2014   \n",
       "2  Very simple book, but leaves you feeling good....  05 28, 2014   \n",
       "3  I read a library copy of this exceptionally we...   04 3, 2014   \n",
       "4  With the government knowing this could happen ...   04 9, 2014   \n",
       "\n",
       "       reviewerID             reviewerName                       summary  \\\n",
       "0   A1E5ZR1Z4OQJG  Pure Jonel \"Pure Jonel\"        An amazing first novel   \n",
       "1  A30PZPI6FPH0A7               Jackmollie                  disappointed   \n",
       "2  A1GQ2UI5BKCCRD              Gail Hodges                     Good book   \n",
       "3  A2DF4LQQI6KSQ2                     Olga  Science Fiction at its best!   \n",
       "4   A1UAMAWY966P2        Nadyne M Ichimura               Excellent story   \n",
       "\n",
       "   unixReviewTime  \n",
       "0      1396137600  \n",
       "1      1400112000  \n",
       "2      1401235200  \n",
       "3      1396483200  \n",
       "4      1397001600  "
      ]
     },
     "execution_count": 7,
     "metadata": {},
     "output_type": "execute_result"
    }
   ],
   "source": [
    "data.head()"
   ]
  },
  {
   "cell_type": "code",
   "execution_count": 8,
   "metadata": {},
   "outputs": [
    {
     "data": {
      "text/plain": [
       "Grocery        1000\n",
       "Electronics    1000\n",
       "Books          1000\n",
       "Patio          1000\n",
       "Clothing       1000\n",
       "Name: category, dtype: int64"
      ]
     },
     "execution_count": 8,
     "metadata": {},
     "output_type": "execute_result"
    }
   ],
   "source": [
    "data['category'].value_counts()"
   ]
  },
  {
   "cell_type": "code",
   "execution_count": 9,
   "metadata": {},
   "outputs": [
    {
     "data": {
      "text/plain": [
       "(5000, 10)"
      ]
     },
     "execution_count": 9,
     "metadata": {},
     "output_type": "execute_result"
    }
   ],
   "source": [
    "data.shape"
   ]
  },
  {
   "cell_type": "markdown",
   "metadata": {},
   "source": [
    "# 2 - Train_test split"
   ]
  },
  {
   "cell_type": "code",
   "execution_count": 10,
   "metadata": {},
   "outputs": [],
   "source": [
    "X = data['reviewText']\n",
    "y = data['category']"
   ]
  },
  {
   "cell_type": "code",
   "execution_count": 11,
   "metadata": {},
   "outputs": [],
   "source": [
    "from sklearn.model_selection import train_test_split\n",
    "X_train, X_test, y_train, y_test=train_test_split(X,y,test_size=0.33,random_state=0)"
   ]
  },
  {
   "cell_type": "markdown",
   "metadata": {},
   "source": [
    "# 3 - Frequency–Inverse Document Frequency"
   ]
  },
  {
   "cell_type": "markdown",
   "metadata": {},
   "source": [
    "### The words of the input will be the columns of the matrix and the phrases will be the rows and the more times the word appears, less will be its weight"
   ]
  },
  {
   "cell_type": "code",
   "execution_count": 12,
   "metadata": {},
   "outputs": [],
   "source": [
    "from sklearn.feature_extraction.text import TfidfVectorizer"
   ]
  },
  {
   "cell_type": "code",
   "execution_count": 13,
   "metadata": {},
   "outputs": [],
   "source": [
    "vectorizer = TfidfVectorizer()\n",
    "X_train_vectorized=vectorizer.fit_transform(X_train)"
   ]
  },
  {
   "cell_type": "code",
   "execution_count": 14,
   "metadata": {},
   "outputs": [],
   "source": [
    "X_test_vectorized=vectorizer.transform(X_test)"
   ]
  },
  {
   "cell_type": "code",
   "execution_count": 15,
   "metadata": {},
   "outputs": [],
   "source": [
    "X_train_vectorized=pd.DataFrame(data=X_train_vectorized.toarray(),columns = vectorizer.get_feature_names())\n",
    "X_test_vectorized=pd.DataFrame(data=X_test_vectorized.toarray(),columns = vectorizer.get_feature_names())"
   ]
  },
  {
   "cell_type": "markdown",
   "metadata": {},
   "source": [
    "# 4 - Classificators"
   ]
  },
  {
   "cell_type": "code",
   "execution_count": 28,
   "metadata": {},
   "outputs": [],
   "source": [
    "import numpy as np\n",
    "import time\n",
    "from sklearn.metrics import classification_report\n",
    "from sklearn.metrics import confusion_matrix\n",
    "from sklearn.model_selection import cross_val_score\n",
    "from sklearn.tree import DecisionTreeClassifier\n",
    "from sklearn.neighbors import KNeighborsClassifier\n",
    "from sklearn.ensemble import RandomForestClassifier\n",
    "from sklearn.linear_model import LogisticRegression\n",
    "from sklearn.ensemble import GradientBoostingClassifier\n",
    "from sklearn.naive_bayes import GaussianNB\n",
    "from sklearn.svm import LinearSVC,NuSVC,SVC"
   ]
  },
  {
   "cell_type": "code",
   "execution_count": 26,
   "metadata": {},
   "outputs": [],
   "source": [
    " dict_classifiers = {\"Random Forest\": RandomForestClassifier(random_state=42, n_jobs=3),\n",
    "    \"Nearest Neighborns\": KNeighborsClassifier(n_jobs=3),\n",
    "    \"Logistic Regression\": LogisticRegression(solver = \"liblinear\",random_state=42),\n",
    "    \"Gradient Boosting\": GradientBoostingClassifier(random_state=0),\n",
    "    \"LinearSVC\": LinearSVC(random_state=0),\n",
    "    \"NuSVC\": NuSVC(random_state=0),\n",
    "    \"SVC\":SVC(random_state=0)\n",
    "}"
   ]
  },
  {
   "cell_type": "code",
   "execution_count": 23,
   "metadata": {},
   "outputs": [],
   "source": [
    "classifiers_names = list(dict_classifiers.keys())\n",
    "classifiers_values=list(dict_classifiers.values())\n"
   ]
  },
  {
   "cell_type": "code",
   "execution_count": 24,
   "metadata": {},
   "outputs": [],
   "source": [
    "def train_model(model):\n",
    "    model.fit(X_train_vectorized,y_train)\n",
    "    y_test_pred = model.predict(X_test_vectorized)\n",
    "    print(classification_report(y_test, y_test_pred))\n",
    "    print('\\n')\n",
    "    return times"
   ]
  },
  {
   "cell_type": "code",
   "execution_count": 25,
   "metadata": {
    "scrolled": true
   },
   "outputs": [
    {
     "name": "stdout",
     "output_type": "stream",
     "text": [
      "------------------Random Forest------------------\n",
      "              precision    recall  f1-score   support\n",
      "\n",
      "       Books       0.97      0.95      0.96       312\n",
      "    Clothing       0.76      0.88      0.82       334\n",
      " Electronics       0.78      0.77      0.77       346\n",
      "     Grocery       0.84      0.84      0.84       328\n",
      "       Patio       0.87      0.78      0.82       330\n",
      "\n",
      "    accuracy                           0.84      1650\n",
      "   macro avg       0.84      0.84      0.84      1650\n",
      "weighted avg       0.84      0.84      0.84      1650\n",
      "\n",
      "\n",
      "\n",
      "------------------Nearest Neighborns------------------\n",
      "              precision    recall  f1-score   support\n",
      "\n",
      "       Books       0.90      0.92      0.91       312\n",
      "    Clothing       0.78      0.87      0.82       334\n",
      " Electronics       0.85      0.80      0.83       346\n",
      "     Grocery       0.89      0.79      0.84       328\n",
      "       Patio       0.85      0.87      0.86       330\n",
      "\n",
      "    accuracy                           0.85      1650\n",
      "   macro avg       0.85      0.85      0.85      1650\n",
      "weighted avg       0.85      0.85      0.85      1650\n",
      "\n",
      "\n",
      "\n",
      "------------------Logistic Regression------------------\n"
     ]
    },
    {
     "name": "stderr",
     "output_type": "stream",
     "text": [
      "/home/titowoche30/anaconda3/lib/python3.7/site-packages/sklearn/linear_model/_logistic.py:1539: UserWarning: 'n_jobs' > 1 does not have any effect when 'solver' is set to 'liblinear'. Got 'n_jobs' = 3.\n",
      "  \" = {}.\".format(effective_n_jobs(self.n_jobs)))\n"
     ]
    },
    {
     "name": "stdout",
     "output_type": "stream",
     "text": [
      "              precision    recall  f1-score   support\n",
      "\n",
      "       Books       0.99      0.97      0.98       312\n",
      "    Clothing       0.89      0.91      0.90       334\n",
      " Electronics       0.90      0.88      0.89       346\n",
      "     Grocery       0.91      0.92      0.92       328\n",
      "       Patio       0.90      0.92      0.91       330\n",
      "\n",
      "    accuracy                           0.92      1650\n",
      "   macro avg       0.92      0.92      0.92      1650\n",
      "weighted avg       0.92      0.92      0.92      1650\n",
      "\n",
      "\n",
      "\n",
      "------------------Gradient Boosting------------------\n",
      "              precision    recall  f1-score   support\n",
      "\n",
      "       Books       0.97      0.90      0.93       312\n",
      "    Clothing       0.87      0.86      0.86       334\n",
      " Electronics       0.71      0.88      0.78       346\n",
      "     Grocery       0.94      0.80      0.86       328\n",
      "       Patio       0.87      0.85      0.86       330\n",
      "\n",
      "    accuracy                           0.86      1650\n",
      "   macro avg       0.87      0.86      0.86      1650\n",
      "weighted avg       0.87      0.86      0.86      1650\n",
      "\n",
      "\n",
      "\n",
      "------------------LinearSVC------------------\n",
      "              precision    recall  f1-score   support\n",
      "\n",
      "       Books       0.99      0.97      0.98       312\n",
      "    Clothing       0.90      0.93      0.91       334\n",
      " Electronics       0.92      0.89      0.90       346\n",
      "     Grocery       0.94      0.94      0.94       328\n",
      "       Patio       0.92      0.94      0.93       330\n",
      "\n",
      "    accuracy                           0.93      1650\n",
      "   macro avg       0.93      0.93      0.93      1650\n",
      "weighted avg       0.93      0.93      0.93      1650\n",
      "\n",
      "\n",
      "\n",
      "------------------NuSVC------------------\n",
      "              precision    recall  f1-score   support\n",
      "\n",
      "       Books       0.99      0.94      0.97       312\n",
      "    Clothing       0.89      0.91      0.90       334\n",
      " Electronics       0.85      0.90      0.88       346\n",
      "     Grocery       0.92      0.92      0.92       328\n",
      "       Patio       0.92      0.90      0.91       330\n",
      "\n",
      "    accuracy                           0.91      1650\n",
      "   macro avg       0.92      0.91      0.91      1650\n",
      "weighted avg       0.91      0.91      0.91      1650\n",
      "\n",
      "\n",
      "\n",
      "------------------SVC------------------\n",
      "              precision    recall  f1-score   support\n",
      "\n",
      "       Books       0.99      0.95      0.97       312\n",
      "    Clothing       0.89      0.90      0.90       334\n",
      " Electronics       0.85      0.90      0.87       346\n",
      "     Grocery       0.93      0.92      0.92       328\n",
      "       Patio       0.93      0.90      0.91       330\n",
      "\n",
      "    accuracy                           0.91      1650\n",
      "   macro avg       0.92      0.92      0.92      1650\n",
      "weighted avg       0.92      0.91      0.92      1650\n",
      "\n",
      "\n",
      "\n"
     ]
    }
   ],
   "source": [
    "times,precs = [],[]\n",
    "for key,value in zip(classifiers_names,classifiers_values):\n",
    "    print('------------------{}------------------'.format(key))\n",
    "    Time=train_model(value)\n",
    "    times.append(Time)"
   ]
  },
  {
   "cell_type": "markdown",
   "metadata": {},
   "source": [
    "# 5 - Grid_search"
   ]
  },
  {
   "cell_type": "code",
   "execution_count": 29,
   "metadata": {},
   "outputs": [],
   "source": [
    "from sklearn.model_selection import GridSearchCV"
   ]
  },
  {
   "cell_type": "code",
   "execution_count": 30,
   "metadata": {},
   "outputs": [
    {
     "data": {
      "text/plain": [
       "LinearSVC(C=1.0, class_weight=None, dual=True, fit_intercept=True,\n",
       "          intercept_scaling=1, loss='squared_hinge', max_iter=1000,\n",
       "          multi_class='ovr', penalty='l2', random_state=0, tol=0.0001,\n",
       "          verbose=0)"
      ]
     },
     "execution_count": 30,
     "metadata": {},
     "output_type": "execute_result"
    }
   ],
   "source": [
    "model = LinearSVC(random_state=0)\n",
    "model.fit(X_train_vectorized,y_train)"
   ]
  },
  {
   "cell_type": "code",
   "execution_count": 31,
   "metadata": {},
   "outputs": [
    {
     "name": "stdout",
     "output_type": "stream",
     "text": [
      "Fitting 3 folds for each of 16 candidates, totalling 48 fits\n"
     ]
    },
    {
     "name": "stderr",
     "output_type": "stream",
     "text": [
      "[Parallel(n_jobs=3)]: Using backend LokyBackend with 3 concurrent workers.\n",
      "[Parallel(n_jobs=3)]: Done  35 tasks      | elapsed:    9.0s\n",
      "[Parallel(n_jobs=3)]: Done  48 out of  48 | elapsed:   16.7s finished\n"
     ]
    },
    {
     "data": {
      "text/plain": [
       "GridSearchCV(cv=3, error_score=nan,\n",
       "             estimator=LinearSVC(C=1.0, class_weight=None, dual=True,\n",
       "                                 fit_intercept=True, intercept_scaling=1,\n",
       "                                 loss='squared_hinge', max_iter=1000,\n",
       "                                 multi_class='ovr', penalty='l2',\n",
       "                                 random_state=0, tol=0.0001, verbose=0),\n",
       "             iid='deprecated', n_jobs=3,\n",
       "             param_grid={'C': [1, 10, 100, 1000],\n",
       "                         'multi_class': ['ovr', 'crammer_singer'],\n",
       "                         'penalty': ['l1', 'l2']},\n",
       "             pre_dispatch='2*n_jobs', refit=True, return_train_score=False,\n",
       "             scoring=None, verbose=2)"
      ]
     },
     "execution_count": 31,
     "metadata": {},
     "output_type": "execute_result"
    }
   ],
   "source": [
    "penalty = ['l1', 'l2']\n",
    "multi_class = ['ovr','crammer_singer']\n",
    "C = [1, 10, 100, 1000]\n",
    "\n",
    "parameters = dict(penalty=penalty, multi_class=multi_class, C=C)\n",
    "\n",
    "grid = GridSearchCV(model, parameters, cv = 3, verbose = 2, n_jobs = 3)\n",
    "grid.fit(X_train_vectorized, y_train)"
   ]
  },
  {
   "cell_type": "code",
   "execution_count": 32,
   "metadata": {},
   "outputs": [
    {
     "data": {
      "text/plain": [
       "LinearSVC(C=1, class_weight=None, dual=True, fit_intercept=True,\n",
       "          intercept_scaling=1, loss='squared_hinge', max_iter=1000,\n",
       "          multi_class='ovr', penalty='l2', random_state=0, tol=0.0001,\n",
       "          verbose=0)"
      ]
     },
     "execution_count": 32,
     "metadata": {},
     "output_type": "execute_result"
    }
   ],
   "source": [
    "model = grid.best_estimator_\n",
    "model.fit(X_train_vectorized,y_train)"
   ]
  },
  {
   "cell_type": "markdown",
   "metadata": {},
   "source": [
    "# 6 - Evaluation"
   ]
  },
  {
   "cell_type": "code",
   "execution_count": 33,
   "metadata": {},
   "outputs": [
    {
     "data": {
      "text/plain": [
       "array([0.929, 0.946, 0.932, 0.938, 0.931])"
      ]
     },
     "execution_count": 33,
     "metadata": {},
     "output_type": "execute_result"
    }
   ],
   "source": [
    "scores = cross_val_score(model, pd.concat([X_train_vectorized,X_test_vectorized]), pd.concat([y_train,y_test]), cv = 5, scoring='accuracy')\n",
    "scores"
   ]
  },
  {
   "cell_type": "code",
   "execution_count": 34,
   "metadata": {},
   "outputs": [
    {
     "name": "stdout",
     "output_type": "stream",
     "text": [
      "              precision    recall  f1-score   support\n",
      "\n",
      "       Books       0.99      0.97      0.98       312\n",
      "    Clothing       0.90      0.93      0.91       334\n",
      " Electronics       0.92      0.89      0.90       346\n",
      "     Grocery       0.94      0.94      0.94       328\n",
      "       Patio       0.92      0.94      0.93       330\n",
      "\n",
      "    accuracy                           0.93      1650\n",
      "   macro avg       0.93      0.93      0.93      1650\n",
      "weighted avg       0.93      0.93      0.93      1650\n",
      "\n"
     ]
    }
   ],
   "source": [
    "y_test_pred = model.predict(X_test_vectorized)\n",
    "print(classification_report(y_test, y_test_pred))"
   ]
  },
  {
   "cell_type": "code",
   "execution_count": 35,
   "metadata": {},
   "outputs": [
    {
     "data": {
      "text/plain": [
       "<matplotlib.axes._subplots.AxesSubplot at 0x7f392986e6d0>"
      ]
     },
     "execution_count": 35,
     "metadata": {},
     "output_type": "execute_result"
    },
    {
     "data": {
      "image/png": "[encoded data removed]",
      "text/plain": [
       "<Figure size 720x576 with 2 Axes>"
      ]
     },
     "metadata": {
      "needs_background": "light"
     },
     "output_type": "display_data"
    }
   ],
   "source": [
    "labels = ['Books','Clothing','Electronics','Grocery','Patio']\n",
    "conf_matrix = confusion_matrix(y_test, y_test_pred,labels=labels)\n",
    "conf_matrix = pd.DataFrame(conf_matrix,index=labels,columns=labels) \n",
    "\n",
    "plt.figure(figsize=(10,8))\n",
    "sns.heatmap(conf_matrix,annot=True,fmt='d')"
   ]
  }
 ],
 "metadata": {
  "kernelspec": {
   "display_name": "Python 3",
   "language": "python",
   "name": "python3"
  },
  "language_info": {
   "codemirror_mode": {
    "name": "ipython",
    "version": 3
   },
   "file_extension": ".py",
   "mimetype": "text/x-python",
   "name": "python",
   "nbconvert_exporter": "python",
   "pygments_lexer": "ipython3",
   "version": "3.7.6"
  }
 },
 "nbformat": 4,
 "nbformat_minor": 4
}
