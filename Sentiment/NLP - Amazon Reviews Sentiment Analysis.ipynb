{
 "cells": [
  {
   "cell_type": "markdown",
   "metadata": {},
   "source": [
    "# 1 - Preparing data"
   ]
  },
  {
   "cell_type": "code",
   "execution_count": 185,
   "metadata": {},
   "outputs": [],
   "source": [
    "import numpy as np\n",
    "import pandas as pd\n",
    "import matplotlib.pyplot as plt\n",
    "import seaborn as sns\n",
    "plt.style.use('seaborn-whitegrid')\n",
    "from sklearn.utils import shuffle"
   ]
  },
  {
   "cell_type": "code",
   "execution_count": 186,
   "metadata": {},
   "outputs": [],
   "source": [
    "books_data=pd.read_json(\"./data/Books_small_10000.json\",lines=True)"
   ]
  },
  {
   "cell_type": "code",
   "execution_count": 187,
   "metadata": {},
   "outputs": [
    {
     "data": {
      "text/html": [
       "<div>\n",
       "<style scoped>\n",
       "    .dataframe tbody tr th:only-of-type {\n",
       "        vertical-align: middle;\n",
       "    }\n",
       "\n",
       "    .dataframe tbody tr th {\n",
       "        vertical-align: top;\n",
       "    }\n",
       "\n",
       "    .dataframe thead th {\n",
       "        text-align: right;\n",
       "    }\n",
       "</style>\n",
       "<table border=\"1\" class=\"dataframe\">\n",
       "  <thead>\n",
       "    <tr style=\"text-align: right;\">\n",
       "      <th></th>\n",
       "      <th>reviewerID</th>\n",
       "      <th>asin</th>\n",
       "      <th>reviewerName</th>\n",
       "      <th>helpful</th>\n",
       "      <th>reviewText</th>\n",
       "      <th>overall</th>\n",
       "      <th>summary</th>\n",
       "      <th>unixReviewTime</th>\n",
       "      <th>reviewTime</th>\n",
       "    </tr>\n",
       "  </thead>\n",
       "  <tbody>\n",
       "    <tr>\n",
       "      <th>0</th>\n",
       "      <td>A1F2H80A1ZNN1N</td>\n",
       "      <td>B00GDM3NQC</td>\n",
       "      <td>Connie Correll</td>\n",
       "      <td>[0, 0]</td>\n",
       "      <td>I bought both boxed sets, books 1-5.  Really a...</td>\n",
       "      <td>5</td>\n",
       "      <td>Can't stop reading!</td>\n",
       "      <td>1390435200</td>\n",
       "      <td>01 23, 2014</td>\n",
       "    </tr>\n",
       "    <tr>\n",
       "      <th>1</th>\n",
       "      <td>AI3DRTKCSK4KX</td>\n",
       "      <td>B00A5MREAM</td>\n",
       "      <td>Grandma</td>\n",
       "      <td>[0, 0]</td>\n",
       "      <td>I enjoyed this short book. But it was way way ...</td>\n",
       "      <td>3</td>\n",
       "      <td>A leaf on the wind of all hallows</td>\n",
       "      <td>1399593600</td>\n",
       "      <td>05 9, 2014</td>\n",
       "    </tr>\n",
       "    <tr>\n",
       "      <th>2</th>\n",
       "      <td>A3KAKFHY9DAC8A</td>\n",
       "      <td>0446547573</td>\n",
       "      <td>toobusyreading \"Inspired Kathy\"</td>\n",
       "      <td>[1, 1]</td>\n",
       "      <td>I love Nicholas Sparks. I&amp;#8217;ve read everyt...</td>\n",
       "      <td>4</td>\n",
       "      <td>Great writing from Nicholas Sparks.</td>\n",
       "      <td>1404518400</td>\n",
       "      <td>07 5, 2014</td>\n",
       "    </tr>\n",
       "    <tr>\n",
       "      <th>3</th>\n",
       "      <td>ATYBCYD6BIXVL</td>\n",
       "      <td>0955809215</td>\n",
       "      <td>Chrissie</td>\n",
       "      <td>[0, 0]</td>\n",
       "      <td>I really enjoyed this adventure and look forwa...</td>\n",
       "      <td>4</td>\n",
       "      <td>great</td>\n",
       "      <td>1389225600</td>\n",
       "      <td>01 9, 2014</td>\n",
       "    </tr>\n",
       "    <tr>\n",
       "      <th>4</th>\n",
       "      <td>A17K95SEU3J68U</td>\n",
       "      <td>0991500776</td>\n",
       "      <td>Sirde \"artist761\"</td>\n",
       "      <td>[0, 0]</td>\n",
       "      <td>It was a decent read.. typical story line. Not...</td>\n",
       "      <td>3</td>\n",
       "      <td>It was a decent read.. typical story line ...</td>\n",
       "      <td>1404864000</td>\n",
       "      <td>07 9, 2014</td>\n",
       "    </tr>\n",
       "  </tbody>\n",
       "</table>\n",
       "</div>"
      ],
      "text/plain": [
       "       reviewerID        asin                     reviewerName helpful  \\\n",
       "0  A1F2H80A1ZNN1N  B00GDM3NQC                   Connie Correll  [0, 0]   \n",
       "1   AI3DRTKCSK4KX  B00A5MREAM                          Grandma  [0, 0]   \n",
       "2  A3KAKFHY9DAC8A  0446547573  toobusyreading \"Inspired Kathy\"  [1, 1]   \n",
       "3   ATYBCYD6BIXVL  0955809215                         Chrissie  [0, 0]   \n",
       "4  A17K95SEU3J68U  0991500776                Sirde \"artist761\"  [0, 0]   \n",
       "\n",
       "                                          reviewText  overall  \\\n",
       "0  I bought both boxed sets, books 1-5.  Really a...        5   \n",
       "1  I enjoyed this short book. But it was way way ...        3   \n",
       "2  I love Nicholas Sparks. I&#8217;ve read everyt...        4   \n",
       "3  I really enjoyed this adventure and look forwa...        4   \n",
       "4  It was a decent read.. typical story line. Not...        3   \n",
       "\n",
       "                                         summary  unixReviewTime   reviewTime  \n",
       "0                            Can't stop reading!      1390435200  01 23, 2014  \n",
       "1              A leaf on the wind of all hallows      1399593600   05 9, 2014  \n",
       "2            Great writing from Nicholas Sparks.      1404518400   07 5, 2014  \n",
       "3                                          great      1389225600   01 9, 2014  \n",
       "4  It was a decent read.. typical story line ...      1404864000   07 9, 2014  "
      ]
     },
     "execution_count": 187,
     "metadata": {},
     "output_type": "execute_result"
    }
   ],
   "source": [
    "books_data.head()"
   ]
  },
  {
   "cell_type": "code",
   "execution_count": 188,
   "metadata": {},
   "outputs": [
    {
     "data": {
      "text/plain": [
       "(10000, 9)"
      ]
     },
     "execution_count": 188,
     "metadata": {},
     "output_type": "execute_result"
    }
   ],
   "source": [
    "books_data.shape"
   ]
  },
  {
   "cell_type": "code",
   "execution_count": 189,
   "metadata": {},
   "outputs": [],
   "source": [
    "def get_sentiment(data):\n",
    "        if data <=2:\n",
    "            return 'NEGATIVE'\n",
    "        elif data == 3:\n",
    "            return 'NEUTRAL'\n",
    "        else:\n",
    "            return 'POSITIVE'"
   ]
  },
  {
   "cell_type": "code",
   "execution_count": 190,
   "metadata": {},
   "outputs": [],
   "source": [
    "books_data['sentiment'] = books_data['overall'].map(lambda x: get_sentiment(x))"
   ]
  },
  {
   "cell_type": "code",
   "execution_count": 191,
   "metadata": {
    "scrolled": true
   },
   "outputs": [
    {
     "data": {
      "text/html": [
       "<div>\n",
       "<style scoped>\n",
       "    .dataframe tbody tr th:only-of-type {\n",
       "        vertical-align: middle;\n",
       "    }\n",
       "\n",
       "    .dataframe tbody tr th {\n",
       "        vertical-align: top;\n",
       "    }\n",
       "\n",
       "    .dataframe thead th {\n",
       "        text-align: right;\n",
       "    }\n",
       "</style>\n",
       "<table border=\"1\" class=\"dataframe\">\n",
       "  <thead>\n",
       "    <tr style=\"text-align: right;\">\n",
       "      <th></th>\n",
       "      <th>reviewerID</th>\n",
       "      <th>asin</th>\n",
       "      <th>reviewerName</th>\n",
       "      <th>helpful</th>\n",
       "      <th>reviewText</th>\n",
       "      <th>overall</th>\n",
       "      <th>summary</th>\n",
       "      <th>unixReviewTime</th>\n",
       "      <th>reviewTime</th>\n",
       "      <th>sentiment</th>\n",
       "    </tr>\n",
       "  </thead>\n",
       "  <tbody>\n",
       "    <tr>\n",
       "      <th>0</th>\n",
       "      <td>A1F2H80A1ZNN1N</td>\n",
       "      <td>B00GDM3NQC</td>\n",
       "      <td>Connie Correll</td>\n",
       "      <td>[0, 0]</td>\n",
       "      <td>I bought both boxed sets, books 1-5.  Really a...</td>\n",
       "      <td>5</td>\n",
       "      <td>Can't stop reading!</td>\n",
       "      <td>1390435200</td>\n",
       "      <td>01 23, 2014</td>\n",
       "      <td>POSITIVE</td>\n",
       "    </tr>\n",
       "    <tr>\n",
       "      <th>1</th>\n",
       "      <td>AI3DRTKCSK4KX</td>\n",
       "      <td>B00A5MREAM</td>\n",
       "      <td>Grandma</td>\n",
       "      <td>[0, 0]</td>\n",
       "      <td>I enjoyed this short book. But it was way way ...</td>\n",
       "      <td>3</td>\n",
       "      <td>A leaf on the wind of all hallows</td>\n",
       "      <td>1399593600</td>\n",
       "      <td>05 9, 2014</td>\n",
       "      <td>NEUTRAL</td>\n",
       "    </tr>\n",
       "    <tr>\n",
       "      <th>2</th>\n",
       "      <td>A3KAKFHY9DAC8A</td>\n",
       "      <td>0446547573</td>\n",
       "      <td>toobusyreading \"Inspired Kathy\"</td>\n",
       "      <td>[1, 1]</td>\n",
       "      <td>I love Nicholas Sparks. I&amp;#8217;ve read everyt...</td>\n",
       "      <td>4</td>\n",
       "      <td>Great writing from Nicholas Sparks.</td>\n",
       "      <td>1404518400</td>\n",
       "      <td>07 5, 2014</td>\n",
       "      <td>POSITIVE</td>\n",
       "    </tr>\n",
       "    <tr>\n",
       "      <th>3</th>\n",
       "      <td>ATYBCYD6BIXVL</td>\n",
       "      <td>0955809215</td>\n",
       "      <td>Chrissie</td>\n",
       "      <td>[0, 0]</td>\n",
       "      <td>I really enjoyed this adventure and look forwa...</td>\n",
       "      <td>4</td>\n",
       "      <td>great</td>\n",
       "      <td>1389225600</td>\n",
       "      <td>01 9, 2014</td>\n",
       "      <td>POSITIVE</td>\n",
       "    </tr>\n",
       "    <tr>\n",
       "      <th>4</th>\n",
       "      <td>A17K95SEU3J68U</td>\n",
       "      <td>0991500776</td>\n",
       "      <td>Sirde \"artist761\"</td>\n",
       "      <td>[0, 0]</td>\n",
       "      <td>It was a decent read.. typical story line. Not...</td>\n",
       "      <td>3</td>\n",
       "      <td>It was a decent read.. typical story line ...</td>\n",
       "      <td>1404864000</td>\n",
       "      <td>07 9, 2014</td>\n",
       "      <td>NEUTRAL</td>\n",
       "    </tr>\n",
       "    <tr>\n",
       "      <th>5</th>\n",
       "      <td>AAPAK68BFPHA1</td>\n",
       "      <td>B00HPHL9OW</td>\n",
       "      <td>Michelle Dodd</td>\n",
       "      <td>[0, 0]</td>\n",
       "      <td>I hoped for Mia to have some peace in this boo...</td>\n",
       "      <td>5</td>\n",
       "      <td>Absolutely compelling book I felt Mia's Story ...</td>\n",
       "      <td>1389830400</td>\n",
       "      <td>01 16, 2014</td>\n",
       "      <td>POSITIVE</td>\n",
       "    </tr>\n",
       "    <tr>\n",
       "      <th>6</th>\n",
       "      <td>A1ETRQ3VMHZYLK</td>\n",
       "      <td>0307451305</td>\n",
       "      <td>Kahoutek</td>\n",
       "      <td>[0, 0]</td>\n",
       "      <td>The book has the fevered intensity of Oliver S...</td>\n",
       "      <td>2</td>\n",
       "      <td>A Fevered Mess</td>\n",
       "      <td>1394668800</td>\n",
       "      <td>03 13, 2014</td>\n",
       "      <td>NEGATIVE</td>\n",
       "    </tr>\n",
       "    <tr>\n",
       "      <th>7</th>\n",
       "      <td>A3LVKEP5T8HO6D</td>\n",
       "      <td>0843960221</td>\n",
       "      <td>Beck</td>\n",
       "      <td>[0, 0]</td>\n",
       "      <td>This is the First book in the Trilogy, and I'm...</td>\n",
       "      <td>5</td>\n",
       "      <td>The Road to a Hanging</td>\n",
       "      <td>1399075200</td>\n",
       "      <td>05 3, 2014</td>\n",
       "      <td>POSITIVE</td>\n",
       "    </tr>\n",
       "    <tr>\n",
       "      <th>8</th>\n",
       "      <td>A14PRVP4JK88E7</td>\n",
       "      <td>B00JKW55EA</td>\n",
       "      <td>Rafase282</td>\n",
       "      <td>[0, 0]</td>\n",
       "      <td>After reading the other book about introvert p...</td>\n",
       "      <td>5</td>\n",
       "      <td>The follow up!</td>\n",
       "      <td>1397606400</td>\n",
       "      <td>04 16, 2014</td>\n",
       "      <td>POSITIVE</td>\n",
       "    </tr>\n",
       "    <tr>\n",
       "      <th>9</th>\n",
       "      <td>A3SOAJ7WJFHVFN</td>\n",
       "      <td>1493770691</td>\n",
       "      <td>Sara S.</td>\n",
       "      <td>[2, 2]</td>\n",
       "      <td>I really, really like this book because the he...</td>\n",
       "      <td>5</td>\n",
       "      <td>Decency prevails!</td>\n",
       "      <td>1397779200</td>\n",
       "      <td>04 18, 2014</td>\n",
       "      <td>POSITIVE</td>\n",
       "    </tr>\n",
       "  </tbody>\n",
       "</table>\n",
       "</div>"
      ],
      "text/plain": [
       "       reviewerID        asin                     reviewerName helpful  \\\n",
       "0  A1F2H80A1ZNN1N  B00GDM3NQC                   Connie Correll  [0, 0]   \n",
       "1   AI3DRTKCSK4KX  B00A5MREAM                          Grandma  [0, 0]   \n",
       "2  A3KAKFHY9DAC8A  0446547573  toobusyreading \"Inspired Kathy\"  [1, 1]   \n",
       "3   ATYBCYD6BIXVL  0955809215                         Chrissie  [0, 0]   \n",
       "4  A17K95SEU3J68U  0991500776                Sirde \"artist761\"  [0, 0]   \n",
       "5   AAPAK68BFPHA1  B00HPHL9OW                    Michelle Dodd  [0, 0]   \n",
       "6  A1ETRQ3VMHZYLK  0307451305                         Kahoutek  [0, 0]   \n",
       "7  A3LVKEP5T8HO6D  0843960221                             Beck  [0, 0]   \n",
       "8  A14PRVP4JK88E7  B00JKW55EA                        Rafase282  [0, 0]   \n",
       "9  A3SOAJ7WJFHVFN  1493770691                          Sara S.  [2, 2]   \n",
       "\n",
       "                                          reviewText  overall  \\\n",
       "0  I bought both boxed sets, books 1-5.  Really a...        5   \n",
       "1  I enjoyed this short book. But it was way way ...        3   \n",
       "2  I love Nicholas Sparks. I&#8217;ve read everyt...        4   \n",
       "3  I really enjoyed this adventure and look forwa...        4   \n",
       "4  It was a decent read.. typical story line. Not...        3   \n",
       "5  I hoped for Mia to have some peace in this boo...        5   \n",
       "6  The book has the fevered intensity of Oliver S...        2   \n",
       "7  This is the First book in the Trilogy, and I'm...        5   \n",
       "8  After reading the other book about introvert p...        5   \n",
       "9  I really, really like this book because the he...        5   \n",
       "\n",
       "                                             summary  unixReviewTime  \\\n",
       "0                                Can't stop reading!      1390435200   \n",
       "1                  A leaf on the wind of all hallows      1399593600   \n",
       "2                Great writing from Nicholas Sparks.      1404518400   \n",
       "3                                              great      1389225600   \n",
       "4      It was a decent read.. typical story line ...      1404864000   \n",
       "5  Absolutely compelling book I felt Mia's Story ...      1389830400   \n",
       "6                                     A Fevered Mess      1394668800   \n",
       "7                              The Road to a Hanging      1399075200   \n",
       "8                                     The follow up!      1397606400   \n",
       "9                                  Decency prevails!      1397779200   \n",
       "\n",
       "    reviewTime sentiment  \n",
       "0  01 23, 2014  POSITIVE  \n",
       "1   05 9, 2014   NEUTRAL  \n",
       "2   07 5, 2014  POSITIVE  \n",
       "3   01 9, 2014  POSITIVE  \n",
       "4   07 9, 2014   NEUTRAL  \n",
       "5  01 16, 2014  POSITIVE  \n",
       "6  03 13, 2014  NEGATIVE  \n",
       "7   05 3, 2014  POSITIVE  \n",
       "8  04 16, 2014  POSITIVE  \n",
       "9  04 18, 2014  POSITIVE  "
      ]
     },
     "execution_count": 191,
     "metadata": {},
     "output_type": "execute_result"
    }
   ],
   "source": [
    "books_data.head(10)"
   ]
  },
  {
   "cell_type": "markdown",
   "metadata": {},
   "source": [
    "## Imbalanced data "
   ]
  },
  {
   "cell_type": "code",
   "execution_count": 192,
   "metadata": {
    "scrolled": true
   },
   "outputs": [
    {
     "data": {
      "text/plain": [
       "POSITIVE    8378\n",
       "NEUTRAL      978\n",
       "NEGATIVE     644\n",
       "Name: sentiment, dtype: int64"
      ]
     },
     "execution_count": 192,
     "metadata": {},
     "output_type": "execute_result"
    }
   ],
   "source": [
    "books_data['sentiment'].value_counts()"
   ]
  },
  {
   "cell_type": "code",
   "execution_count": 195,
   "metadata": {
    "scrolled": true
   },
   "outputs": [],
   "source": [
    "positive_reviews = books_data[books_data['sentiment'] == 'POSITIVE']\n",
    "negative_reviews = books_data[books_data['sentiment'] == 'NEGATIVE']\n",
    "\n",
    "size_negative = negative_reviews.shape[0]\n",
    "\n",
    "new_positive_reviews = positive_reviews.sample(size_negative)\n",
    "\n",
    "reviews = pd.concat([negative_reviews,new_positive_reviews],axis=0)\n",
    "books_data = reviews"
   ]
  },
  {
   "cell_type": "code",
   "execution_count": 196,
   "metadata": {},
   "outputs": [
    {
     "data": {
      "text/plain": [
       "NEGATIVE    644\n",
       "POSITIVE    644\n",
       "Name: sentiment, dtype: int64"
      ]
     },
     "execution_count": 196,
     "metadata": {},
     "output_type": "execute_result"
    }
   ],
   "source": [
    "books_data['sentiment'].value_counts()"
   ]
  },
  {
   "cell_type": "markdown",
   "metadata": {},
   "source": [
    "# 2 - Train_test split"
   ]
  },
  {
   "cell_type": "code",
   "execution_count": 197,
   "metadata": {},
   "outputs": [],
   "source": [
    "X = books_data['reviewText']\n",
    "y = books_data['sentiment']"
   ]
  },
  {
   "cell_type": "code",
   "execution_count": 198,
   "metadata": {},
   "outputs": [
    {
     "data": {
      "text/plain": [
       "['Karice Bolton u deserve 5 golden &#127775;&#127775;&#127775;&#127775;&#127775;I absolutely love this series and the characters seem so real! A MUST READ!']"
      ]
     },
     "execution_count": 198,
     "metadata": {},
     "output_type": "execute_result"
    }
   ],
   "source": [
    "lista= [value for value in X.values if '127775' in value ]\n",
    "lista"
   ]
  },
  {
   "cell_type": "code",
   "execution_count": 199,
   "metadata": {
    "scrolled": false
   },
   "outputs": [
    {
     "data": {
      "text/plain": [
       "1282"
      ]
     },
     "execution_count": 199,
     "metadata": {},
     "output_type": "execute_result"
    }
   ],
   "source": [
    "np.where(X.values == lista)[0][0]"
   ]
  },
  {
   "cell_type": "code",
   "execution_count": 200,
   "metadata": {},
   "outputs": [],
   "source": [
    "X.values[1282] = \"I absolutely love this series and the characters seem so real! A MUST READ!\""
   ]
  },
  {
   "cell_type": "code",
   "execution_count": 201,
   "metadata": {},
   "outputs": [],
   "source": [
    "from sklearn.model_selection import train_test_split\n",
    "X_train, X_test, y_train, y_test=train_test_split(X,y,test_size=0.33,random_state=0)"
   ]
  },
  {
   "cell_type": "code",
   "execution_count": 202,
   "metadata": {},
   "outputs": [
    {
     "name": "stdout",
     "output_type": "stream",
     "text": [
      "5435    What a light, fun and entertaining story.  Tot...\n",
      "Name: reviewText, dtype: object\n",
      "5435    POSITIVE\n",
      "Name: sentiment, dtype: object\n",
      "7208    Most of the book, when it does deal with Hudso...\n",
      "Name: reviewText, dtype: object\n",
      "7208    NEGATIVE\n",
      "Name: sentiment, dtype: object\n"
     ]
    }
   ],
   "source": [
    "print(X_test.head(1))\n",
    "print(y_test.head(1))\n",
    "print(X_train.head(1))\n",
    "print(y_train.head(1))"
   ]
  },
  {
   "cell_type": "code",
   "execution_count": 203,
   "metadata": {},
   "outputs": [
    {
     "data": {
      "text/plain": [
       "NEGATIVE    436\n",
       "POSITIVE    426\n",
       "Name: sentiment, dtype: int64"
      ]
     },
     "execution_count": 203,
     "metadata": {},
     "output_type": "execute_result"
    }
   ],
   "source": [
    "y_train.value_counts()"
   ]
  },
  {
   "cell_type": "code",
   "execution_count": 204,
   "metadata": {},
   "outputs": [
    {
     "data": {
      "text/plain": [
       "POSITIVE    218\n",
       "NEGATIVE    208\n",
       "Name: sentiment, dtype: int64"
      ]
     },
     "execution_count": 204,
     "metadata": {},
     "output_type": "execute_result"
    }
   ],
   "source": [
    "y_test.value_counts()"
   ]
  },
  {
   "cell_type": "markdown",
   "metadata": {},
   "source": [
    "# 3 -  TF-IDF: Term’s Frequency (TF) Inverse Document Frequency (IDF).\n",
    "\n",
    "## TF: The frequency of a word in a document(text). When you know it, you’re able to see if you’re using a term too much or too little. \n",
    "\n",
    "$TF(t) = \\dfrac{Number \\ of \\ times \\ word \\ t \\ appears \\ in \\ a \\ document}{Total \\ number \\ of \\ words \\ in \\ the \\ document}$\n",
    "\n",
    "## IDF: The measure of how significant that term is in the whole corpus.\n",
    "\n",
    "$IDF(t) = log_e \\bigg(\\dfrac{Total \\ number \\ of \\ documents}{Number \\ of \\ documents \\ with \\ word \\ t \\ in \\ it}\\bigg) $\n",
    "\n",
    "# TF-IDF = TF*IDF\n",
    "##  The higher the TF*IDF value, the rarer the term. The smaller the weight, the more common the term."
   ]
  },
  {
   "cell_type": "code",
   "execution_count": 16,
   "metadata": {},
   "outputs": [],
   "source": [
    "from sklearn.feature_extraction.text import TfidfVectorizer"
   ]
  },
  {
   "cell_type": "code",
   "execution_count": 205,
   "metadata": {},
   "outputs": [],
   "source": [
    "vectorizer = TfidfVectorizer()\n",
    "X_train_vectorized=vectorizer.fit_transform(X_train)\n",
    "X_test_vectorized=vectorizer.transform(X_test)"
   ]
  },
  {
   "cell_type": "markdown",
   "metadata": {},
   "source": [
    "# 4 - Latent Semantic Analysis "
   ]
  },
  {
   "cell_type": "code",
   "execution_count": 19,
   "metadata": {},
   "outputs": [],
   "source": [
    "from sklearn.decomposition import TruncatedSVD\n",
    "import time"
   ]
  },
  {
   "cell_type": "code",
   "execution_count": 206,
   "metadata": {},
   "outputs": [
    {
     "name": "stdout",
     "output_type": "stream",
     "text": [
      "total time taken: 3.9838738441467285\n"
     ]
    }
   ],
   "source": [
    "t0 = time.time()\n",
    "\n",
    "svd = TruncatedSVD(n_components=X_train_vectorized.shape[0])\n",
    "X_train_svd = svd.fit_transform(X_train_vectorized)\n",
    "\n",
    "X_test_svd = svd.transform(X_test_vectorized)\n",
    "\n",
    "print('total time taken:',time.time()-t0)"
   ]
  },
  {
   "cell_type": "code",
   "execution_count": 207,
   "metadata": {},
   "outputs": [
    {
     "data": {
      "image/png": "[encoded data removed]",
      "text/plain": [
       "<Figure size 1080x576 with 1 Axes>"
      ]
     },
     "metadata": {},
     "output_type": "display_data"
    }
   ],
   "source": [
    "plt.figure(figsize=(15,8))\n",
    "plt.title('Cumulative Explained Variance',size='xx-large')\n",
    "plt.xlabel('Column',size='x-large')\n",
    "plt.xticks(size='large')\n",
    "plt.ylabel('Proportional Variance',size='x-large')\n",
    "plt.yticks(size='large')\n",
    "plt.bar(range(svd.explained_variance_ratio_.shape[0]),svd.explained_variance_ratio_.cumsum(),alpha=.7)\n",
    "plt.show()\n",
    "\n"
   ]
  },
  {
   "cell_type": "code",
   "execution_count": 87,
   "metadata": {},
   "outputs": [],
   "source": [
    "#from sklearn.utils.extmath import safe_sparse_dot\n",
    "\n",
    "# Getting the projection on the first 1500 columns\n",
    "#X_train_svd = safe_sparse_dot(X_train_vectorized,svd.components_[:1500].T)\n",
    "#X_test_svd = safe_sparse_dot(X_test_vectorized,svd.components_[:1500].T)\n",
    "\n",
    "#X_train_svd.shape"
   ]
  },
  {
   "cell_type": "code",
   "execution_count": 208,
   "metadata": {},
   "outputs": [],
   "source": [
    "X_train_vectorized=pd.DataFrame(data=X_train_vectorized.toarray(),columns = vectorizer.get_feature_names())\n",
    "X_test_vectorized=pd.DataFrame(data=X_test_vectorized.toarray(),columns = vectorizer.get_feature_names())"
   ]
  },
  {
   "cell_type": "code",
   "execution_count": 209,
   "metadata": {
    "scrolled": true
   },
   "outputs": [
    {
     "data": {
      "text/html": [
       "<div>\n",
       "<style scoped>\n",
       "    .dataframe tbody tr th:only-of-type {\n",
       "        vertical-align: middle;\n",
       "    }\n",
       "\n",
       "    .dataframe tbody tr th {\n",
       "        vertical-align: top;\n",
       "    }\n",
       "\n",
       "    .dataframe thead th {\n",
       "        text-align: right;\n",
       "    }\n",
       "</style>\n",
       "<table border=\"1\" class=\"dataframe\">\n",
       "  <thead>\n",
       "    <tr style=\"text-align: right;\">\n",
       "      <th></th>\n",
       "      <th>Most Important Feature</th>\n",
       "    </tr>\n",
       "    <tr>\n",
       "      <th>PCs</th>\n",
       "      <th></th>\n",
       "    </tr>\n",
       "  </thead>\n",
       "  <tbody>\n",
       "    <tr>\n",
       "      <th>PC0</th>\n",
       "      <td>the</td>\n",
       "    </tr>\n",
       "    <tr>\n",
       "      <th>PC1</th>\n",
       "      <td>it</td>\n",
       "    </tr>\n",
       "    <tr>\n",
       "      <th>PC2</th>\n",
       "      <td>34</td>\n",
       "    </tr>\n",
       "    <tr>\n",
       "      <th>PC3</th>\n",
       "      <td>the</td>\n",
       "    </tr>\n",
       "    <tr>\n",
       "      <th>PC4</th>\n",
       "      <td>34</td>\n",
       "    </tr>\n",
       "    <tr>\n",
       "      <th>...</th>\n",
       "      <td>...</td>\n",
       "    </tr>\n",
       "    <tr>\n",
       "      <th>PC857</th>\n",
       "      <td>patience</td>\n",
       "    </tr>\n",
       "    <tr>\n",
       "      <th>PC858</th>\n",
       "      <td>disappointed</td>\n",
       "    </tr>\n",
       "    <tr>\n",
       "      <th>PC859</th>\n",
       "      <td>developed</td>\n",
       "    </tr>\n",
       "    <tr>\n",
       "      <th>PC860</th>\n",
       "      <td>spelling</td>\n",
       "    </tr>\n",
       "    <tr>\n",
       "      <th>PC861</th>\n",
       "      <td>quick</td>\n",
       "    </tr>\n",
       "  </tbody>\n",
       "</table>\n",
       "<p>862 rows × 1 columns</p>\n",
       "</div>"
      ],
      "text/plain": [
       "      Most Important Feature\n",
       "PCs                         \n",
       "PC0                      the\n",
       "PC1                       it\n",
       "PC2                       34\n",
       "PC3                      the\n",
       "PC4                       34\n",
       "...                      ...\n",
       "PC857               patience\n",
       "PC858           disappointed\n",
       "PC859              developed\n",
       "PC860               spelling\n",
       "PC861                  quick\n",
       "\n",
       "[862 rows x 1 columns]"
      ]
     },
     "execution_count": 209,
     "metadata": {},
     "output_type": "execute_result"
    }
   ],
   "source": [
    "n_pcs = svd.components_.shape[0]\n",
    "\n",
    "# get the index of the most important feature on EACH component\n",
    "most_important = [np.abs(svd.components_[i]).argmax() for i in range(n_pcs)]\n",
    "\n",
    "initial_feature_names = X_train_vectorized.columns\n",
    "# get the names\n",
    "most_important_names = [initial_feature_names[most_important[i]] for i in range(n_pcs)]\n",
    "\n",
    "dic = {'PC{}'.format(i): most_important_names[i] for i in range(n_pcs)}\n",
    "\n",
    "\n",
    "# each feature impacts each PC(eigenvector) diferently\n",
    "df_svd = pd.DataFrame(dic.items(),columns=['PCs','Most Important Feature'])\n",
    "df_svd=df_svd.set_index('PCs')\n",
    "df_svd"
   ]
  },
  {
   "cell_type": "code",
   "execution_count": 210,
   "metadata": {},
   "outputs": [
    {
     "data": {
      "text/plain": [
       "thumbs     15\n",
       "advice     14\n",
       "button     14\n",
       "wast       13\n",
       "serve      13\n",
       "           ..\n",
       "novella     1\n",
       "no          1\n",
       "weight      1\n",
       "history     1\n",
       "typical     1\n",
       "Name: Most Important Feature, Length: 442, dtype: int64"
      ]
     },
     "execution_count": 210,
     "metadata": {},
     "output_type": "execute_result"
    }
   ],
   "source": [
    "df_svd['Most Important Feature'].value_counts()"
   ]
  },
  {
   "cell_type": "code",
   "execution_count": 211,
   "metadata": {
    "scrolled": false
   },
   "outputs": [
    {
     "data": {
      "image/png": "[encoded data removed]",
      "text/plain": [
       "<Figure size 1440x1080 with 1 Axes>"
      ]
     },
     "metadata": {},
     "output_type": "display_data"
    }
   ],
   "source": [
    "threshold = 3\n",
    "sorted_most_important = df_svd['Most Important Feature'].value_counts()\n",
    "sorted_most_important = sorted_most_important[sorted_most_important>threshold]\n",
    "\n",
    "\n",
    "plt.figure(figsize=(20,15))\n",
    "plt.title('Most Important Words on the PCs',size='xx-large')\n",
    "plt.yticks(size='x-large')\n",
    "fig=sns.barplot(x=sorted_most_important.keys(),y=sorted_most_important.values)\n",
    "fig.set_xticklabels(fig.get_xticklabels(),rotation=65,size='x-large')\n",
    "plt.show()\n"
   ]
  },
  {
   "cell_type": "markdown",
   "metadata": {},
   "source": [
    "# 5 - Classificators"
   ]
  },
  {
   "cell_type": "code",
   "execution_count": 227,
   "metadata": {},
   "outputs": [],
   "source": [
    "import numpy as np\n",
    "from sklearn.metrics import classification_report,f1_score,confusion_matrix \n",
    "from sklearn.model_selection import cross_val_score\n",
    "from sklearn.linear_model import LogisticRegression\n",
    "from sklearn.svm import LinearSVC,SVC"
   ]
  },
  {
   "cell_type": "code",
   "execution_count": 213,
   "metadata": {},
   "outputs": [],
   "source": [
    "dict_classifiers = {\n",
    "    \"Logistic Regression\": LogisticRegression(solver = \"liblinear\",random_state=0),\n",
    "    \"LinearSVC\": LinearSVC(random_state=0),\n",
    "    \"SVC\":SVC(random_state=0)\n",
    "}"
   ]
  },
  {
   "cell_type": "code",
   "execution_count": 218,
   "metadata": {},
   "outputs": [],
   "source": [
    "classifiers_names = list(dict_classifiers.keys())\n",
    "classifiers_values=list(dict_classifiers.values())\n"
   ]
  },
  {
   "cell_type": "code",
   "execution_count": 219,
   "metadata": {},
   "outputs": [],
   "source": [
    "def train_model(model,svd=False):\n",
    "    if svd:\n",
    "        model.fit(X_train_svd,y_train)\n",
    "        y_test_pred = model.predict(X_test_svd)\n",
    "    else:\n",
    "        model.fit(X_train_vectorized,y_train)\n",
    "        y_test_pred = model.predict(X_test_vectorized)\n",
    "    \n",
    "    print('f1 = ',f1_score(y_test, y_test_pred,average='weighted'))\n",
    "    print('\\n')\n",
    "    return times"
   ]
  },
  {
   "cell_type": "code",
   "execution_count": 220,
   "metadata": {
    "scrolled": true
   },
   "outputs": [
    {
     "name": "stdout",
     "output_type": "stream",
     "text": [
      "------------------------------No_SVD------------------------------\n",
      "------------Logistic Regression------------\n",
      "f1 =  0.8731388174703414\n",
      "\n",
      "\n",
      "------------LinearSVC------------\n",
      "f1 =  0.8849898396776251\n",
      "\n",
      "\n",
      "------------SVC------------\n",
      "f1 =  0.8685040327567373\n",
      "\n",
      "\n",
      "------------------------------Yes_SVD------------------------------\n",
      "------------Logistic Regression------------\n",
      "f1 =  0.8731388174703414\n",
      "\n",
      "\n",
      "------------LinearSVC------------\n",
      "f1 =  0.8849898396776251\n",
      "\n",
      "\n",
      "------------SVC------------\n",
      "f1 =  0.8635372252645476\n",
      "\n",
      "\n"
     ]
    }
   ],
   "source": [
    "times,precs = [],[]\n",
    "names = ['No_SVD','Yes_SVD']\n",
    "flag = False\n",
    "for name in names:\n",
    "    print('--'*15+f'{name}'+'--'*15)\n",
    "    for key,value in zip(classifiers_names,classifiers_values):\n",
    "        print('--'*6+f'{key}'+'--'*6)\n",
    "        Time=train_model(value,flag)\n",
    "        times.append(Time)\n",
    "    flag = True"
   ]
  },
  {
   "cell_type": "code",
   "execution_count": 221,
   "metadata": {},
   "outputs": [
    {
     "name": "stdout",
     "output_type": "stream",
     "text": [
      "(862, 8663)\n",
      "(862, 862)\n"
     ]
    }
   ],
   "source": [
    "print(X_train_vectorized.shape)\n",
    "print(X_train_svd.shape)"
   ]
  },
  {
   "cell_type": "markdown",
   "metadata": {},
   "source": [
    "## SVD drastically reduces the number of columns and preserves the matrix's variance"
   ]
  },
  {
   "cell_type": "markdown",
   "metadata": {},
   "source": [
    "# 6 - Grid_search"
   ]
  },
  {
   "cell_type": "code",
   "execution_count": 222,
   "metadata": {},
   "outputs": [],
   "source": [
    "from sklearn.model_selection import GridSearchCV"
   ]
  },
  {
   "cell_type": "code",
   "execution_count": 228,
   "metadata": {},
   "outputs": [
    {
     "name": "stdout",
     "output_type": "stream",
     "text": [
      "Fitting 3 folds for each of 32 candidates, totalling 96 fits\n"
     ]
    },
    {
     "name": "stderr",
     "output_type": "stream",
     "text": [
      "[Parallel(n_jobs=3)]: Using backend LokyBackend with 3 concurrent workers.\n",
      "[Parallel(n_jobs=3)]: Done  64 tasks      | elapsed:    2.1s\n",
      "[Parallel(n_jobs=3)]: Done  96 out of  96 | elapsed:    3.3s finished\n"
     ]
    },
    {
     "data": {
      "text/plain": [
       "GridSearchCV(cv=3, error_score=nan,\n",
       "             estimator=LinearSVC(C=1.0, class_weight=None, dual=True,\n",
       "                                 fit_intercept=True, intercept_scaling=1,\n",
       "                                 loss='squared_hinge', max_iter=1000,\n",
       "                                 multi_class='ovr', penalty='l2',\n",
       "                                 random_state=0, tol=0.0001, verbose=0),\n",
       "             iid='deprecated', n_jobs=3,\n",
       "             param_grid={'C': [1, 10, 100, 1000],\n",
       "                         'loss': ['hinge', 'squared_hinge'],\n",
       "                         'multi_class': ['ovr', 'crammer_singer'],\n",
       "                         'penalty': ['l1', 'l2']},\n",
       "             pre_dispatch='2*n_jobs', refit=True, return_train_score=False,\n",
       "             scoring='f1_weighted', verbose=2)"
      ]
     },
     "execution_count": 228,
     "metadata": {},
     "output_type": "execute_result"
    }
   ],
   "source": [
    "model = LinearSVC(random_state=0)\n",
    "penalty = ['l1', 'l2']\n",
    "multi_class = ['ovr','crammer_singer']\n",
    "C = [1, 10, 100, 1000]\n",
    "loss = ['hinge', 'squared_hinge']\n",
    "\n",
    "parameters = dict(penalty=penalty, multi_class=multi_class, C=C,loss=loss)\n",
    "\n",
    "grid = GridSearchCV(model, parameters, cv = 3, verbose = 2, n_jobs = 3,scoring='f1_weighted')\n",
    "grid.fit(X_train_svd, y_train)"
   ]
  },
  {
   "cell_type": "code",
   "execution_count": 229,
   "metadata": {},
   "outputs": [
    {
     "data": {
      "text/plain": [
       "0.8259386595215678"
      ]
     },
     "execution_count": 229,
     "metadata": {},
     "output_type": "execute_result"
    }
   ],
   "source": [
    "grid.best_score_"
   ]
  },
  {
   "cell_type": "code",
   "execution_count": 230,
   "metadata": {},
   "outputs": [
    {
     "name": "stdout",
     "output_type": "stream",
     "text": [
      "LinearSVC(C=1, class_weight=None, dual=True, fit_intercept=True,\n",
      "          intercept_scaling=1, loss='hinge', max_iter=1000, multi_class='ovr',\n",
      "          penalty='l2', random_state=0, tol=0.0001, verbose=0)\n"
     ]
    }
   ],
   "source": [
    "print(grid.best_estimator_)\n",
    "model = grid.best_estimator_"
   ]
  },
  {
   "cell_type": "markdown",
   "metadata": {},
   "source": [
    "# 7 - Evaluation"
   ]
  },
  {
   "cell_type": "code",
   "execution_count": 232,
   "metadata": {},
   "outputs": [],
   "source": [
    "X_train_svd=pd.DataFrame(data=X_train_svd)\n",
    "X_test_svd=pd.DataFrame(data=X_test_svd)"
   ]
  },
  {
   "cell_type": "code",
   "execution_count": 233,
   "metadata": {},
   "outputs": [
    {
     "data": {
      "text/plain": [
       "array([0.81782672, 0.8564835 , 0.86432274, 0.87159144, 0.87548261])"
      ]
     },
     "execution_count": 233,
     "metadata": {},
     "output_type": "execute_result"
    }
   ],
   "source": [
    "scores = cross_val_score(model, pd.concat([X_train_svd,X_test_svd]), pd.concat([y_train,y_test]), cv = 5, scoring='f1_weighted')\n",
    "scores"
   ]
  },
  {
   "cell_type": "code",
   "execution_count": 234,
   "metadata": {},
   "outputs": [
    {
     "name": "stdout",
     "output_type": "stream",
     "text": [
      "              precision    recall  f1-score   support\n",
      "\n",
      "    NEGATIVE       0.86      0.88      0.87       208\n",
      "    POSITIVE       0.88      0.86      0.87       218\n",
      "\n",
      "    accuracy                           0.87       426\n",
      "   macro avg       0.87      0.87      0.87       426\n",
      "weighted avg       0.87      0.87      0.87       426\n",
      "\n"
     ]
    }
   ],
   "source": [
    "y_test_pred = model.predict(X_test_svd)\n",
    "print(classification_report(y_test, y_test_pred))"
   ]
  },
  {
   "cell_type": "code",
   "execution_count": 246,
   "metadata": {},
   "outputs": [
    {
     "name": "stdout",
     "output_type": "stream",
     "text": [
      "True Negatives =  0.4295774647887324\n",
      "True Positives =  0.43896713615023475\n",
      "False Positives - Erro Tipo I =  0.05868544600938967\n",
      "False Negatives - Erro Tipo II =  0.07276995305164319\n"
     ]
    }
   ],
   "source": [
    "conf_matrix = confusion_matrix(y_test, y_test_pred)\n",
    "\n",
    "print('True Negatives = ', conf_matrix[0,0]/conf_matrix.sum())\n",
    "print('True Positives = ', conf_matrix[1,1]/conf_matrix.sum())\n",
    "print('False Positives - Erro Tipo I = ', conf_matrix[0,1]/conf_matrix.sum())\n",
    "print('False Negatives - Erro Tipo II = ', conf_matrix[1,0]/conf_matrix.sum())"
   ]
  }
 ],
 "metadata": {
  "kernelspec": {
   "display_name": "Python 3",
   "language": "python",
   "name": "python3"
  },
  "language_info": {
   "codemirror_mode": {
    "name": "ipython",
    "version": 3
   },
   "file_extension": ".py",
   "mimetype": "text/x-python",
   "name": "python",
   "nbconvert_exporter": "python",
   "pygments_lexer": "ipython3",
   "version": "3.7.6"
  }
 },
 "nbformat": 4,
 "nbformat_minor": 4
}
