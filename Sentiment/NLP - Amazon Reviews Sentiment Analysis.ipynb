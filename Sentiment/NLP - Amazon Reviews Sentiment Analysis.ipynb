{
 "cells": [
  {
   "cell_type": "markdown",
   "metadata": {},
   "source": [
    "# 1 - Preparing data"
   ]
  },
  {
   "cell_type": "code",
   "execution_count": 34,
   "metadata": {},
   "outputs": [],
   "source": [
    "import pandas as pd\n",
    "from sklearn.utils import shuffle"
   ]
  },
  {
   "cell_type": "code",
   "execution_count": 35,
   "metadata": {},
   "outputs": [],
   "source": [
    "books_data=pd.read_json(\"./data/Books_small_10000.json\",lines=True)"
   ]
  },
  {
   "cell_type": "code",
   "execution_count": 36,
   "metadata": {},
   "outputs": [
    {
     "data": {
      "text/html": [
       "<div>\n",
       "<style scoped>\n",
       "    .dataframe tbody tr th:only-of-type {\n",
       "        vertical-align: middle;\n",
       "    }\n",
       "\n",
       "    .dataframe tbody tr th {\n",
       "        vertical-align: top;\n",
       "    }\n",
       "\n",
       "    .dataframe thead th {\n",
       "        text-align: right;\n",
       "    }\n",
       "</style>\n",
       "<table border=\"1\" class=\"dataframe\">\n",
       "  <thead>\n",
       "    <tr style=\"text-align: right;\">\n",
       "      <th></th>\n",
       "      <th>reviewerID</th>\n",
       "      <th>asin</th>\n",
       "      <th>reviewerName</th>\n",
       "      <th>helpful</th>\n",
       "      <th>reviewText</th>\n",
       "      <th>overall</th>\n",
       "      <th>summary</th>\n",
       "      <th>unixReviewTime</th>\n",
       "      <th>reviewTime</th>\n",
       "    </tr>\n",
       "  </thead>\n",
       "  <tbody>\n",
       "    <tr>\n",
       "      <th>0</th>\n",
       "      <td>A1F2H80A1ZNN1N</td>\n",
       "      <td>B00GDM3NQC</td>\n",
       "      <td>Connie Correll</td>\n",
       "      <td>[0, 0]</td>\n",
       "      <td>I bought both boxed sets, books 1-5.  Really a...</td>\n",
       "      <td>5</td>\n",
       "      <td>Can't stop reading!</td>\n",
       "      <td>1390435200</td>\n",
       "      <td>01 23, 2014</td>\n",
       "    </tr>\n",
       "    <tr>\n",
       "      <th>1</th>\n",
       "      <td>AI3DRTKCSK4KX</td>\n",
       "      <td>B00A5MREAM</td>\n",
       "      <td>Grandma</td>\n",
       "      <td>[0, 0]</td>\n",
       "      <td>I enjoyed this short book. But it was way way ...</td>\n",
       "      <td>3</td>\n",
       "      <td>A leaf on the wind of all hallows</td>\n",
       "      <td>1399593600</td>\n",
       "      <td>05 9, 2014</td>\n",
       "    </tr>\n",
       "    <tr>\n",
       "      <th>2</th>\n",
       "      <td>A3KAKFHY9DAC8A</td>\n",
       "      <td>0446547573</td>\n",
       "      <td>toobusyreading \"Inspired Kathy\"</td>\n",
       "      <td>[1, 1]</td>\n",
       "      <td>I love Nicholas Sparks. I&amp;#8217;ve read everyt...</td>\n",
       "      <td>4</td>\n",
       "      <td>Great writing from Nicholas Sparks.</td>\n",
       "      <td>1404518400</td>\n",
       "      <td>07 5, 2014</td>\n",
       "    </tr>\n",
       "    <tr>\n",
       "      <th>3</th>\n",
       "      <td>ATYBCYD6BIXVL</td>\n",
       "      <td>0955809215</td>\n",
       "      <td>Chrissie</td>\n",
       "      <td>[0, 0]</td>\n",
       "      <td>I really enjoyed this adventure and look forwa...</td>\n",
       "      <td>4</td>\n",
       "      <td>great</td>\n",
       "      <td>1389225600</td>\n",
       "      <td>01 9, 2014</td>\n",
       "    </tr>\n",
       "    <tr>\n",
       "      <th>4</th>\n",
       "      <td>A17K95SEU3J68U</td>\n",
       "      <td>0991500776</td>\n",
       "      <td>Sirde \"artist761\"</td>\n",
       "      <td>[0, 0]</td>\n",
       "      <td>It was a decent read.. typical story line. Not...</td>\n",
       "      <td>3</td>\n",
       "      <td>It was a decent read.. typical story line ...</td>\n",
       "      <td>1404864000</td>\n",
       "      <td>07 9, 2014</td>\n",
       "    </tr>\n",
       "  </tbody>\n",
       "</table>\n",
       "</div>"
      ],
      "text/plain": [
       "       reviewerID        asin                     reviewerName helpful  \\\n",
       "0  A1F2H80A1ZNN1N  B00GDM3NQC                   Connie Correll  [0, 0]   \n",
       "1   AI3DRTKCSK4KX  B00A5MREAM                          Grandma  [0, 0]   \n",
       "2  A3KAKFHY9DAC8A  0446547573  toobusyreading \"Inspired Kathy\"  [1, 1]   \n",
       "3   ATYBCYD6BIXVL  0955809215                         Chrissie  [0, 0]   \n",
       "4  A17K95SEU3J68U  0991500776                Sirde \"artist761\"  [0, 0]   \n",
       "\n",
       "                                          reviewText  overall  \\\n",
       "0  I bought both boxed sets, books 1-5.  Really a...        5   \n",
       "1  I enjoyed this short book. But it was way way ...        3   \n",
       "2  I love Nicholas Sparks. I&#8217;ve read everyt...        4   \n",
       "3  I really enjoyed this adventure and look forwa...        4   \n",
       "4  It was a decent read.. typical story line. Not...        3   \n",
       "\n",
       "                                         summary  unixReviewTime   reviewTime  \n",
       "0                            Can't stop reading!      1390435200  01 23, 2014  \n",
       "1              A leaf on the wind of all hallows      1399593600   05 9, 2014  \n",
       "2            Great writing from Nicholas Sparks.      1404518400   07 5, 2014  \n",
       "3                                          great      1389225600   01 9, 2014  \n",
       "4  It was a decent read.. typical story line ...      1404864000   07 9, 2014  "
      ]
     },
     "execution_count": 36,
     "metadata": {},
     "output_type": "execute_result"
    }
   ],
   "source": [
    "books_data.head()"
   ]
  },
  {
   "cell_type": "code",
   "execution_count": 37,
   "metadata": {},
   "outputs": [
    {
     "data": {
      "text/plain": [
       "(10000, 9)"
      ]
     },
     "execution_count": 37,
     "metadata": {},
     "output_type": "execute_result"
    }
   ],
   "source": [
    "books_data.shape"
   ]
  },
  {
   "cell_type": "code",
   "execution_count": 38,
   "metadata": {},
   "outputs": [],
   "source": [
    "def get_sentiment(data):\n",
    "        if data <=2:\n",
    "            return 'NEGATIVE'\n",
    "        elif data == 3:\n",
    "            return 'NEUTRAL'\n",
    "        else:\n",
    "            return 'POSITIVE'"
   ]
  },
  {
   "cell_type": "code",
   "execution_count": 39,
   "metadata": {},
   "outputs": [],
   "source": [
    "books_data['sentiment'] = books_data['overall'].map(lambda x: get_sentiment(x))"
   ]
  },
  {
   "cell_type": "code",
   "execution_count": 40,
   "metadata": {
    "scrolled": true
   },
   "outputs": [
    {
     "data": {
      "text/html": [
       "<div>\n",
       "<style scoped>\n",
       "    .dataframe tbody tr th:only-of-type {\n",
       "        vertical-align: middle;\n",
       "    }\n",
       "\n",
       "    .dataframe tbody tr th {\n",
       "        vertical-align: top;\n",
       "    }\n",
       "\n",
       "    .dataframe thead th {\n",
       "        text-align: right;\n",
       "    }\n",
       "</style>\n",
       "<table border=\"1\" class=\"dataframe\">\n",
       "  <thead>\n",
       "    <tr style=\"text-align: right;\">\n",
       "      <th></th>\n",
       "      <th>reviewerID</th>\n",
       "      <th>asin</th>\n",
       "      <th>reviewerName</th>\n",
       "      <th>helpful</th>\n",
       "      <th>reviewText</th>\n",
       "      <th>overall</th>\n",
       "      <th>summary</th>\n",
       "      <th>unixReviewTime</th>\n",
       "      <th>reviewTime</th>\n",
       "      <th>sentiment</th>\n",
       "    </tr>\n",
       "  </thead>\n",
       "  <tbody>\n",
       "    <tr>\n",
       "      <th>0</th>\n",
       "      <td>A1F2H80A1ZNN1N</td>\n",
       "      <td>B00GDM3NQC</td>\n",
       "      <td>Connie Correll</td>\n",
       "      <td>[0, 0]</td>\n",
       "      <td>I bought both boxed sets, books 1-5.  Really a...</td>\n",
       "      <td>5</td>\n",
       "      <td>Can't stop reading!</td>\n",
       "      <td>1390435200</td>\n",
       "      <td>01 23, 2014</td>\n",
       "      <td>POSITIVE</td>\n",
       "    </tr>\n",
       "    <tr>\n",
       "      <th>1</th>\n",
       "      <td>AI3DRTKCSK4KX</td>\n",
       "      <td>B00A5MREAM</td>\n",
       "      <td>Grandma</td>\n",
       "      <td>[0, 0]</td>\n",
       "      <td>I enjoyed this short book. But it was way way ...</td>\n",
       "      <td>3</td>\n",
       "      <td>A leaf on the wind of all hallows</td>\n",
       "      <td>1399593600</td>\n",
       "      <td>05 9, 2014</td>\n",
       "      <td>NEUTRAL</td>\n",
       "    </tr>\n",
       "    <tr>\n",
       "      <th>2</th>\n",
       "      <td>A3KAKFHY9DAC8A</td>\n",
       "      <td>0446547573</td>\n",
       "      <td>toobusyreading \"Inspired Kathy\"</td>\n",
       "      <td>[1, 1]</td>\n",
       "      <td>I love Nicholas Sparks. I&amp;#8217;ve read everyt...</td>\n",
       "      <td>4</td>\n",
       "      <td>Great writing from Nicholas Sparks.</td>\n",
       "      <td>1404518400</td>\n",
       "      <td>07 5, 2014</td>\n",
       "      <td>POSITIVE</td>\n",
       "    </tr>\n",
       "    <tr>\n",
       "      <th>3</th>\n",
       "      <td>ATYBCYD6BIXVL</td>\n",
       "      <td>0955809215</td>\n",
       "      <td>Chrissie</td>\n",
       "      <td>[0, 0]</td>\n",
       "      <td>I really enjoyed this adventure and look forwa...</td>\n",
       "      <td>4</td>\n",
       "      <td>great</td>\n",
       "      <td>1389225600</td>\n",
       "      <td>01 9, 2014</td>\n",
       "      <td>POSITIVE</td>\n",
       "    </tr>\n",
       "    <tr>\n",
       "      <th>4</th>\n",
       "      <td>A17K95SEU3J68U</td>\n",
       "      <td>0991500776</td>\n",
       "      <td>Sirde \"artist761\"</td>\n",
       "      <td>[0, 0]</td>\n",
       "      <td>It was a decent read.. typical story line. Not...</td>\n",
       "      <td>3</td>\n",
       "      <td>It was a decent read.. typical story line ...</td>\n",
       "      <td>1404864000</td>\n",
       "      <td>07 9, 2014</td>\n",
       "      <td>NEUTRAL</td>\n",
       "    </tr>\n",
       "    <tr>\n",
       "      <th>5</th>\n",
       "      <td>AAPAK68BFPHA1</td>\n",
       "      <td>B00HPHL9OW</td>\n",
       "      <td>Michelle Dodd</td>\n",
       "      <td>[0, 0]</td>\n",
       "      <td>I hoped for Mia to have some peace in this boo...</td>\n",
       "      <td>5</td>\n",
       "      <td>Absolutely compelling book I felt Mia's Story ...</td>\n",
       "      <td>1389830400</td>\n",
       "      <td>01 16, 2014</td>\n",
       "      <td>POSITIVE</td>\n",
       "    </tr>\n",
       "    <tr>\n",
       "      <th>6</th>\n",
       "      <td>A1ETRQ3VMHZYLK</td>\n",
       "      <td>0307451305</td>\n",
       "      <td>Kahoutek</td>\n",
       "      <td>[0, 0]</td>\n",
       "      <td>The book has the fevered intensity of Oliver S...</td>\n",
       "      <td>2</td>\n",
       "      <td>A Fevered Mess</td>\n",
       "      <td>1394668800</td>\n",
       "      <td>03 13, 2014</td>\n",
       "      <td>NEGATIVE</td>\n",
       "    </tr>\n",
       "    <tr>\n",
       "      <th>7</th>\n",
       "      <td>A3LVKEP5T8HO6D</td>\n",
       "      <td>0843960221</td>\n",
       "      <td>Beck</td>\n",
       "      <td>[0, 0]</td>\n",
       "      <td>This is the First book in the Trilogy, and I'm...</td>\n",
       "      <td>5</td>\n",
       "      <td>The Road to a Hanging</td>\n",
       "      <td>1399075200</td>\n",
       "      <td>05 3, 2014</td>\n",
       "      <td>POSITIVE</td>\n",
       "    </tr>\n",
       "    <tr>\n",
       "      <th>8</th>\n",
       "      <td>A14PRVP4JK88E7</td>\n",
       "      <td>B00JKW55EA</td>\n",
       "      <td>Rafase282</td>\n",
       "      <td>[0, 0]</td>\n",
       "      <td>After reading the other book about introvert p...</td>\n",
       "      <td>5</td>\n",
       "      <td>The follow up!</td>\n",
       "      <td>1397606400</td>\n",
       "      <td>04 16, 2014</td>\n",
       "      <td>POSITIVE</td>\n",
       "    </tr>\n",
       "    <tr>\n",
       "      <th>9</th>\n",
       "      <td>A3SOAJ7WJFHVFN</td>\n",
       "      <td>1493770691</td>\n",
       "      <td>Sara S.</td>\n",
       "      <td>[2, 2]</td>\n",
       "      <td>I really, really like this book because the he...</td>\n",
       "      <td>5</td>\n",
       "      <td>Decency prevails!</td>\n",
       "      <td>1397779200</td>\n",
       "      <td>04 18, 2014</td>\n",
       "      <td>POSITIVE</td>\n",
       "    </tr>\n",
       "  </tbody>\n",
       "</table>\n",
       "</div>"
      ],
      "text/plain": [
       "       reviewerID        asin                     reviewerName helpful  \\\n",
       "0  A1F2H80A1ZNN1N  B00GDM3NQC                   Connie Correll  [0, 0]   \n",
       "1   AI3DRTKCSK4KX  B00A5MREAM                          Grandma  [0, 0]   \n",
       "2  A3KAKFHY9DAC8A  0446547573  toobusyreading \"Inspired Kathy\"  [1, 1]   \n",
       "3   ATYBCYD6BIXVL  0955809215                         Chrissie  [0, 0]   \n",
       "4  A17K95SEU3J68U  0991500776                Sirde \"artist761\"  [0, 0]   \n",
       "5   AAPAK68BFPHA1  B00HPHL9OW                    Michelle Dodd  [0, 0]   \n",
       "6  A1ETRQ3VMHZYLK  0307451305                         Kahoutek  [0, 0]   \n",
       "7  A3LVKEP5T8HO6D  0843960221                             Beck  [0, 0]   \n",
       "8  A14PRVP4JK88E7  B00JKW55EA                        Rafase282  [0, 0]   \n",
       "9  A3SOAJ7WJFHVFN  1493770691                          Sara S.  [2, 2]   \n",
       "\n",
       "                                          reviewText  overall  \\\n",
       "0  I bought both boxed sets, books 1-5.  Really a...        5   \n",
       "1  I enjoyed this short book. But it was way way ...        3   \n",
       "2  I love Nicholas Sparks. I&#8217;ve read everyt...        4   \n",
       "3  I really enjoyed this adventure and look forwa...        4   \n",
       "4  It was a decent read.. typical story line. Not...        3   \n",
       "5  I hoped for Mia to have some peace in this boo...        5   \n",
       "6  The book has the fevered intensity of Oliver S...        2   \n",
       "7  This is the First book in the Trilogy, and I'm...        5   \n",
       "8  After reading the other book about introvert p...        5   \n",
       "9  I really, really like this book because the he...        5   \n",
       "\n",
       "                                             summary  unixReviewTime  \\\n",
       "0                                Can't stop reading!      1390435200   \n",
       "1                  A leaf on the wind of all hallows      1399593600   \n",
       "2                Great writing from Nicholas Sparks.      1404518400   \n",
       "3                                              great      1389225600   \n",
       "4      It was a decent read.. typical story line ...      1404864000   \n",
       "5  Absolutely compelling book I felt Mia's Story ...      1389830400   \n",
       "6                                     A Fevered Mess      1394668800   \n",
       "7                              The Road to a Hanging      1399075200   \n",
       "8                                     The follow up!      1397606400   \n",
       "9                                  Decency prevails!      1397779200   \n",
       "\n",
       "    reviewTime sentiment  \n",
       "0  01 23, 2014  POSITIVE  \n",
       "1   05 9, 2014   NEUTRAL  \n",
       "2   07 5, 2014  POSITIVE  \n",
       "3   01 9, 2014  POSITIVE  \n",
       "4   07 9, 2014   NEUTRAL  \n",
       "5  01 16, 2014  POSITIVE  \n",
       "6  03 13, 2014  NEGATIVE  \n",
       "7   05 3, 2014  POSITIVE  \n",
       "8  04 16, 2014  POSITIVE  \n",
       "9  04 18, 2014  POSITIVE  "
      ]
     },
     "execution_count": 40,
     "metadata": {},
     "output_type": "execute_result"
    }
   ],
   "source": [
    "books_data.head(10)"
   ]
  },
  {
   "cell_type": "markdown",
   "metadata": {},
   "source": [
    "## Imbalanced data "
   ]
  },
  {
   "cell_type": "code",
   "execution_count": 41,
   "metadata": {
    "scrolled": true
   },
   "outputs": [
    {
     "data": {
      "text/plain": [
       "POSITIVE    8378\n",
       "NEUTRAL      978\n",
       "NEGATIVE     644\n",
       "Name: sentiment, dtype: int64"
      ]
     },
     "execution_count": 41,
     "metadata": {},
     "output_type": "execute_result"
    }
   ],
   "source": [
    "books_data['sentiment'].value_counts()"
   ]
  },
  {
   "cell_type": "code",
   "execution_count": 42,
   "metadata": {
    "scrolled": true
   },
   "outputs": [],
   "source": [
    "positive_reviews = books_data[books_data['sentiment'] == 'POSITIVE']\n",
    "negative_reviews = books_data[books_data['sentiment'] == 'NEGATIVE']\n",
    "size_negative = negative_reviews.shape[0]\n",
    "new_positive_reviews = positive_reviews.iloc[:size_negative,:]\n",
    "reviews = pd.concat([negative_reviews,new_positive_reviews],axis=0)\n",
    "books_data=shuffle(reviews)"
   ]
  },
  {
   "cell_type": "code",
   "execution_count": 43,
   "metadata": {},
   "outputs": [
    {
     "data": {
      "text/plain": [
       "POSITIVE    644\n",
       "NEGATIVE    644\n",
       "Name: sentiment, dtype: int64"
      ]
     },
     "execution_count": 43,
     "metadata": {},
     "output_type": "execute_result"
    }
   ],
   "source": [
    "books_data['sentiment'].value_counts()"
   ]
  },
  {
   "cell_type": "markdown",
   "metadata": {},
   "source": [
    "# 2 - Train_test split"
   ]
  },
  {
   "cell_type": "code",
   "execution_count": 44,
   "metadata": {},
   "outputs": [],
   "source": [
    "X = books_data['reviewText']\n",
    "y = books_data['sentiment']"
   ]
  },
  {
   "cell_type": "code",
   "execution_count": 45,
   "metadata": {},
   "outputs": [],
   "source": [
    "from sklearn.model_selection import train_test_split\n",
    "X_train, X_test, y_train, y_test=train_test_split(X,y,test_size=0.33,random_state=0)"
   ]
  },
  {
   "cell_type": "code",
   "execution_count": 46,
   "metadata": {},
   "outputs": [
    {
     "name": "stdout",
     "output_type": "stream",
     "text": [
      "314    This was a book that was hard to put down.  It...\n",
      "Name: reviewText, dtype: object\n",
      "314    POSITIVE\n",
      "Name: sentiment, dtype: object\n",
      "100    Good follow up to the original.  A little fast...\n",
      "Name: reviewText, dtype: object\n",
      "100    POSITIVE\n",
      "Name: sentiment, dtype: object\n"
     ]
    }
   ],
   "source": [
    "print(X_test.head(1))\n",
    "print(y_test.head(1))\n",
    "print(X_train.head(1))\n",
    "print(y_train.head(1))"
   ]
  },
  {
   "cell_type": "code",
   "execution_count": 47,
   "metadata": {},
   "outputs": [
    {
     "data": {
      "text/plain": [
       "POSITIVE    439\n",
       "NEGATIVE    423\n",
       "Name: sentiment, dtype: int64"
      ]
     },
     "execution_count": 47,
     "metadata": {},
     "output_type": "execute_result"
    }
   ],
   "source": [
    "y_train.value_counts()"
   ]
  },
  {
   "cell_type": "code",
   "execution_count": 48,
   "metadata": {},
   "outputs": [
    {
     "data": {
      "text/plain": [
       "NEGATIVE    221\n",
       "POSITIVE    205\n",
       "Name: sentiment, dtype: int64"
      ]
     },
     "execution_count": 48,
     "metadata": {},
     "output_type": "execute_result"
    }
   ],
   "source": [
    "y_test.value_counts()"
   ]
  },
  {
   "cell_type": "markdown",
   "metadata": {},
   "source": [
    "# 3 - Bag of Words "
   ]
  },
  {
   "cell_type": "markdown",
   "metadata": {},
   "source": [
    "### The words of the input will be the columns of the matrix, the phrases will be the rows and the values will be the number of times which a word appear in a phrase"
   ]
  },
  {
   "cell_type": "code",
   "execution_count": 49,
   "metadata": {},
   "outputs": [],
   "source": [
    "from sklearn.feature_extraction.text import CountVectorizer"
   ]
  },
  {
   "cell_type": "code",
   "execution_count": 50,
   "metadata": {},
   "outputs": [],
   "source": [
    "vectorizer = CountVectorizer()\n",
    "X_train_vectorized=vectorizer.fit_transform(X_train)"
   ]
  },
  {
   "cell_type": "code",
   "execution_count": 51,
   "metadata": {},
   "outputs": [],
   "source": [
    "X_test_vectorized=vectorizer.transform(X_test)"
   ]
  },
  {
   "cell_type": "code",
   "execution_count": 86,
   "metadata": {},
   "outputs": [],
   "source": [
    "X_train_vectorized=pd.DataFrame(data=X_train_vectorized.toarray(),columns = vectorizer.get_feature_names())\n",
    "X_test_vectorized=pd.DataFrame(data=X_test_vectorized.toarray(),columns = vectorizer.get_feature_names())"
   ]
  },
  {
   "cell_type": "markdown",
   "metadata": {},
   "source": [
    "# 4 - Classificators"
   ]
  },
  {
   "cell_type": "code",
   "execution_count": 81,
   "metadata": {},
   "outputs": [],
   "source": [
    "import numpy as np\n",
    "from sklearn.metrics import classification_report\n",
    "from sklearn.tree import DecisionTreeClassifier\n",
    "from sklearn.neighbors import KNeighborsClassifier\n",
    "from sklearn.ensemble import RandomForestClassifier\n",
    "from sklearn.linear_model import LogisticRegression\n",
    "from sklearn.ensemble import GradientBoostingClassifier\n",
    "from sklearn.naive_bayes import GaussianNB\n",
    "from sklearn.svm import LinearSVC,SVC"
   ]
  },
  {
   "cell_type": "code",
   "execution_count": 53,
   "metadata": {},
   "outputs": [],
   "source": [
    " dict_classifiers = {\"Random Forest\": RandomForestClassifier(random_state=0,n_jobs=3),\n",
    "    \"Nearest Neighborns\": KNeighborsClassifier(n_jobs=3),\n",
    "    \"Logistic Regression\": LogisticRegression(solver = \"liblinear\",random_state=0),\n",
    "    \"Gradient Boosting\": GradientBoostingClassifier(random_state=0),\n",
    "    \"LinearSVC\": LinearSVC(random_state=0),\n",
    "    \"SVC\":SVC(random_state=0)\n",
    "}"
   ]
  },
  {
   "cell_type": "code",
   "execution_count": 54,
   "metadata": {},
   "outputs": [],
   "source": [
    "classifiers_names = list(dict_classifiers.keys())\n",
    "classifiers_values=list(dict_classifiers.values())\n"
   ]
  },
  {
   "cell_type": "code",
   "execution_count": 55,
   "metadata": {},
   "outputs": [],
   "source": [
    "def train_model(model):\n",
    "    model.fit(X_train_vectorized,y_train)\n",
    "    y_test_pred = model.predict(X_test_vectorized)\n",
    "    print(classification_report(y_test, y_test_pred))\n",
    "    print('\\n')\n",
    "    return times"
   ]
  },
  {
   "cell_type": "code",
   "execution_count": 56,
   "metadata": {},
   "outputs": [
    {
     "name": "stdout",
     "output_type": "stream",
     "text": [
      "------------------Random Forest------------------\n",
      "              precision    recall  f1-score   support\n",
      "\n",
      "    NEGATIVE       0.82      0.84      0.83       221\n",
      "    POSITIVE       0.82      0.80      0.81       205\n",
      "\n",
      "    accuracy                           0.82       426\n",
      "   macro avg       0.82      0.82      0.82       426\n",
      "weighted avg       0.82      0.82      0.82       426\n",
      "\n",
      "\n",
      "\n",
      "------------------Nearest Neighborns------------------\n",
      "              precision    recall  f1-score   support\n",
      "\n",
      "    NEGATIVE       0.70      0.57      0.62       221\n",
      "    POSITIVE       0.61      0.74      0.67       205\n",
      "\n",
      "    accuracy                           0.65       426\n",
      "   macro avg       0.65      0.65      0.65       426\n",
      "weighted avg       0.66      0.65      0.65       426\n",
      "\n",
      "\n",
      "\n",
      "------------------Logistic Regression------------------\n",
      "              precision    recall  f1-score   support\n",
      "\n",
      "    NEGATIVE       0.85      0.86      0.85       221\n",
      "    POSITIVE       0.84      0.84      0.84       205\n",
      "\n",
      "    accuracy                           0.85       426\n",
      "   macro avg       0.85      0.85      0.85       426\n",
      "weighted avg       0.85      0.85      0.85       426\n",
      "\n",
      "\n",
      "\n",
      "------------------Gradient Boosting------------------\n",
      "              precision    recall  f1-score   support\n",
      "\n",
      "    NEGATIVE       0.78      0.76      0.77       221\n",
      "    POSITIVE       0.75      0.77      0.76       205\n",
      "\n",
      "    accuracy                           0.77       426\n",
      "   macro avg       0.77      0.77      0.77       426\n",
      "weighted avg       0.77      0.77      0.77       426\n",
      "\n",
      "\n",
      "\n",
      "------------------LinearSVC------------------\n",
      "              precision    recall  f1-score   support\n",
      "\n",
      "    NEGATIVE       0.82      0.82      0.82       221\n",
      "    POSITIVE       0.81      0.81      0.81       205\n",
      "\n",
      "    accuracy                           0.81       426\n",
      "   macro avg       0.81      0.81      0.81       426\n",
      "weighted avg       0.81      0.81      0.81       426\n",
      "\n",
      "\n",
      "\n",
      "------------------SVC------------------\n",
      "              precision    recall  f1-score   support\n",
      "\n",
      "    NEGATIVE       0.79      0.69      0.73       221\n",
      "    POSITIVE       0.70      0.80      0.75       205\n",
      "\n",
      "    accuracy                           0.74       426\n",
      "   macro avg       0.75      0.74      0.74       426\n",
      "weighted avg       0.75      0.74      0.74       426\n",
      "\n",
      "\n",
      "\n"
     ]
    }
   ],
   "source": [
    "times,precs = [],[]\n",
    "for key,value in zip(classifiers_names,classifiers_values):\n",
    "    print('------------------{}------------------'.format(key))\n",
    "    Time=train_model(value)\n",
    "    times.append(Time)"
   ]
  },
  {
   "cell_type": "code",
   "execution_count": 59,
   "metadata": {},
   "outputs": [
    {
     "data": {
      "text/plain": [
       "LogisticRegression(C=1.0, class_weight=None, dual=False, fit_intercept=True,\n",
       "                   intercept_scaling=1, l1_ratio=None, max_iter=100,\n",
       "                   multi_class='auto', n_jobs=None, penalty='l2',\n",
       "                   random_state=0, solver='liblinear', tol=0.0001, verbose=0,\n",
       "                   warm_start=False)"
      ]
     },
     "execution_count": 59,
     "metadata": {},
     "output_type": "execute_result"
    }
   ],
   "source": [
    "model = LogisticRegression(solver = \"liblinear\",random_state=0)\n",
    "model.fit(X_train_vectorized,y_train)"
   ]
  },
  {
   "cell_type": "markdown",
   "metadata": {},
   "source": [
    "# 5 - Grid_search"
   ]
  },
  {
   "cell_type": "code",
   "execution_count": 62,
   "metadata": {},
   "outputs": [],
   "source": [
    "from sklearn.model_selection import GridSearchCV"
   ]
  },
  {
   "cell_type": "code",
   "execution_count": 64,
   "metadata": {},
   "outputs": [
    {
     "name": "stdout",
     "output_type": "stream",
     "text": [
      "Fitting 3 folds for each of 8 candidates, totalling 24 fits\n"
     ]
    },
    {
     "name": "stderr",
     "output_type": "stream",
     "text": [
      "[Parallel(n_jobs=3)]: Using backend LokyBackend with 3 concurrent workers.\n",
      "[Parallel(n_jobs=3)]: Done  24 out of  24 | elapsed:    0.9s finished\n"
     ]
    },
    {
     "data": {
      "text/plain": [
       "GridSearchCV(cv=3, error_score=nan,\n",
       "             estimator=LogisticRegression(C=1.0, class_weight=None, dual=False,\n",
       "                                          fit_intercept=True,\n",
       "                                          intercept_scaling=1, l1_ratio=None,\n",
       "                                          max_iter=100, multi_class='auto',\n",
       "                                          n_jobs=None, penalty='l2',\n",
       "                                          random_state=0, solver='liblinear',\n",
       "                                          tol=0.0001, verbose=0,\n",
       "                                          warm_start=False),\n",
       "             iid='deprecated', n_jobs=3,\n",
       "             param_grid={'C': [1, 10, 100, 1000], 'penalty': ['l1', 'l2']},\n",
       "             pre_dispatch='2*n_jobs', refit=True, return_train_score=False,\n",
       "             scoring=None, verbose=2)"
      ]
     },
     "execution_count": 64,
     "metadata": {},
     "output_type": "execute_result"
    }
   ],
   "source": [
    "penalty = ['l1','l2']\n",
    "C = [1, 10, 100, 1000]\n",
    "\n",
    "parameters = dict(penalty = penalty,C=C)\n",
    "\n",
    "grid = GridSearchCV(model, parameters, cv = 3, verbose = 2, n_jobs = 3)\n",
    "grid.fit(X_train_vectorized, y_train)"
   ]
  },
  {
   "cell_type": "code",
   "execution_count": 65,
   "metadata": {},
   "outputs": [
    {
     "data": {
      "text/plain": [
       "LogisticRegression(C=10, class_weight=None, dual=False, fit_intercept=True,\n",
       "                   intercept_scaling=1, l1_ratio=None, max_iter=100,\n",
       "                   multi_class='auto', n_jobs=None, penalty='l2',\n",
       "                   random_state=0, solver='liblinear', tol=0.0001, verbose=0,\n",
       "                   warm_start=False)"
      ]
     },
     "execution_count": 65,
     "metadata": {},
     "output_type": "execute_result"
    }
   ],
   "source": [
    "model = grid.best_estimator_\n",
    "model.fit(X_train_vectorized,y_train)"
   ]
  },
  {
   "cell_type": "markdown",
   "metadata": {},
   "source": [
    "# 6 - Evaluation"
   ]
  },
  {
   "cell_type": "code",
   "execution_count": 84,
   "metadata": {},
   "outputs": [],
   "source": [
    "from sklearn.metrics import confusion_matrix\n",
    "from sklearn.model_selection import cross_val_score\n",
    "import matplotlib.pyplot as plt\n",
    "import seaborn as sns"
   ]
  },
  {
   "cell_type": "code",
   "execution_count": 87,
   "metadata": {},
   "outputs": [
    {
     "data": {
      "text/plain": [
       "array([0.79844961, 0.80620155, 0.8372093 , 0.82490272, 0.85214008])"
      ]
     },
     "execution_count": 87,
     "metadata": {},
     "output_type": "execute_result"
    }
   ],
   "source": [
    "scores = cross_val_score(model, pd.concat([X_train_vectorized,X_test_vectorized]), pd.concat([y_train,y_test]), cv = 5, scoring='accuracy')\n",
    "scores"
   ]
  },
  {
   "cell_type": "code",
   "execution_count": 66,
   "metadata": {},
   "outputs": [
    {
     "name": "stdout",
     "output_type": "stream",
     "text": [
      "              precision    recall  f1-score   support\n",
      "\n",
      "    NEGATIVE       0.83      0.84      0.84       221\n",
      "    POSITIVE       0.82      0.82      0.82       205\n",
      "\n",
      "    accuracy                           0.83       426\n",
      "   macro avg       0.83      0.83      0.83       426\n",
      "weighted avg       0.83      0.83      0.83       426\n",
      "\n"
     ]
    }
   ],
   "source": [
    "y_test_pred = model.predict(X_test_vectorized)\n",
    "print(classification_report(y_test, y_test_pred))"
   ]
  },
  {
   "cell_type": "code",
   "execution_count": 76,
   "metadata": {},
   "outputs": [],
   "source": [
    "conf_matrix = confusion_matrix(y_test, y_test_pred)"
   ]
  },
  {
   "cell_type": "code",
   "execution_count": 79,
   "metadata": {},
   "outputs": [
    {
     "name": "stdout",
     "output_type": "stream",
     "text": [
      "Prop. of True Negatives =  0.434\n",
      "Prop. of True Positives =  0.394\n",
      "Prop. of False Positives - Type I Error =  0.085\n",
      "Prop. of False Negatives - Type II Error =  0.087\n"
     ]
    }
   ],
   "source": [
    "print('Prop. of True Negatives = ', round((conf_matrix[0,0] / y_test.shape[0]),3))\n",
    "print('Prop. of True Positives = ', round((conf_matrix[1,1]/ y_test.shape[0]),3))\n",
    "print('Prop. of False Positives - Type I Error = ', round((conf_matrix[0,1]/ y_test.shape[0]),3))\n",
    "print('Prop. of False Negatives - Type II Error = ', round((conf_matrix[1,0]/ y_test.shape[0]),3))"
   ]
  },
  {
   "cell_type": "code",
   "execution_count": 67,
   "metadata": {},
   "outputs": [
    {
     "data": {
      "text/plain": [
       "array(['POSITIVE', 'POSITIVE', 'NEGATIVE', 'POSITIVE', 'POSITIVE'],\n",
       "      dtype=object)"
      ]
     },
     "execution_count": 67,
     "metadata": {},
     "output_type": "execute_result"
    }
   ],
   "source": [
    "test = ['Very good book ','Wonderful','Waste of time','great','I really enjoyed the experience with this book, it has give me many thoughtful moments']\n",
    "vetorized_test = vectorizer.transform(test)\n",
    "model.predict(vetorized_test)"
   ]
  },
  {
   "cell_type": "markdown",
   "metadata": {},
   "source": [
    "# Not the best but quite good :)"
   ]
  }
 ],
 "metadata": {
  "kernelspec": {
   "display_name": "Python 3",
   "language": "python",
   "name": "python3"
  },
  "language_info": {
   "codemirror_mode": {
    "name": "ipython",
    "version": 3
   },
   "file_extension": ".py",
   "mimetype": "text/x-python",
   "name": "python",
   "nbconvert_exporter": "python",
   "pygments_lexer": "ipython3",
   "version": "3.7.6"
  }
 },
 "nbformat": 4,
 "nbformat_minor": 4
}
